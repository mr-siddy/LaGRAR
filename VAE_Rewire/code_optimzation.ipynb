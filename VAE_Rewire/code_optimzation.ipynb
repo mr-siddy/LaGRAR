{
 "cells": [
  {
   "cell_type": "code",
   "execution_count": 1,
   "metadata": {},
   "outputs": [],
   "source": [
    "import torch\n",
    "import torch.nn as nn\n",
    "import torch.optim as optim\n",
    "import torch.nn.functional as F\n",
    "from torch.nn import Linear, Parameter\n",
    "from torch_geometric.datasets import WebKB, Planetoid, WikipediaNetwork\n",
    "from torch_geometric.nn import GCNConv, VGAE\n",
    "#from torch_geometric.utils import train_test_split_edges\n",
    "from torch_geometric.transforms import RandomLinkSplit\n",
    "from torch_geometric.utils import negative_sampling\n",
    "from torch_geometric.nn import MessagePassing\n",
    "from torch_geometric.utils import add_self_loops, degree"
   ]
  },
  {
   "cell_type": "code",
   "execution_count": 2,
   "metadata": {},
   "outputs": [],
   "source": [
    "device = torch.device(\"cuda\" if torch.cuda.is_available() else \"cpu\")"
   ]
  },
  {
   "cell_type": "code",
   "execution_count": 3,
   "metadata": {},
   "outputs": [],
   "source": [
    "dataset = WebKB(root=\"/home/siddy/META/data\", name=\"Cornell\")\n",
    "data = dataset[0].to(device)"
   ]
  },
  {
   "cell_type": "code",
   "execution_count": 14,
   "metadata": {},
   "outputs": [],
   "source": [
    "from collections import defaultdict, deque\n",
    "def neg_index(num_nodes, edge_index):\n",
    "    adj_list = defaultdict(list)\n",
    "    for i in range(edge_index.size(1)):\n",
    "        u, v = int(edge_index[0, i]), int(edge_index[1, i])\n",
    "        adj_list[u].append(v)\n",
    "        adj_list[v].append(u)\n",
    "\n",
    "    neg_indices = []\n",
    "    for i in range(num_nodes):\n",
    "        visited = set()\n",
    "        queue = deque([(i, 0)])\n",
    "        visited.add(i)\n",
    "        count_two_away = 0\n",
    "        while queue:\n",
    "            node, distance = queue.popleft()\n",
    "            if distance == 2:\n",
    "                count_two_away += 1\n",
    "                continue\n",
    "            for neighbor in adj_list[node]:\n",
    "                if neighbor not in visited:\n",
    "                    visited.add(neighbor)\n",
    "                    queue.append((neighbor, distance + 1))\n",
    "        sum_adj_i = len(adj_list[i])\n",
    "        neg_index = count_two_away / sum_adj_i if sum_adj_i > 0 else 0\n",
    "        neg_indices.append(neg_index)\n",
    "\n",
    "    return adj_list, neg_indices"
   ]
  },
  {
   "cell_type": "code",
   "execution_count": 15,
   "metadata": {},
   "outputs": [],
   "source": [
    "import torch\n",
    "from collections import defaultdict, deque\n",
    "\n",
    "def pos_index(num_nodes, edge_index):\n",
    "    adj_list = defaultdict(list)\n",
    "    for i in range(edge_index.size(1)):\n",
    "        u, v = int(edge_index[0, i]), int(edge_index[1, i])\n",
    "        adj_list[u].append(v)\n",
    "        adj_list[v].append(u)\n",
    "\n",
    "    pos_indices = []\n",
    "    for i in range(edge_index.size(1)):\n",
    "        u, v = int(edge_index[0, i]), int(edge_index[1, i])\n",
    "        common_neighbors = 0\n",
    "        visited = set()\n",
    "        queue = deque(adj_list[u])\n",
    "        visited.add(u)\n",
    "\n",
    "        while queue:\n",
    "            node = queue.popleft()\n",
    "            if node == v:\n",
    "                common_neighbors += 1\n",
    "            visited.add(node)\n",
    "            for neighbor in adj_list[node]:\n",
    "                if neighbor not in visited:\n",
    "                    queue.append(neighbor)\n",
    "        \n",
    "        sum_adj_u = len(adj_list[u])\n",
    "        sum_adj_v = len(adj_list[v])\n",
    "        pos_index = common_neighbors / (sum_adj_u + sum_adj_v - common_neighbors)\n",
    "        pos_indices.append(pos_index)\n",
    "\n",
    "    return pos_indices\n"
   ]
  },
  {
   "cell_type": "code",
   "execution_count": 16,
   "metadata": {},
   "outputs": [],
   "source": [
    "num_nodes = data.x.size(0)\n",
    "edge_index = data.edge_index"
   ]
  },
  {
   "cell_type": "code",
   "execution_count": 17,
   "metadata": {},
   "outputs": [],
   "source": [
    "adj_list, neg_indices = neg_index(num_nodes, edge_index)\n",
    "pos_indices = pos_index(num_nodes, edge_index)"
   ]
  },
  {
   "cell_type": "code",
   "execution_count": 8,
   "metadata": {},
   "outputs": [],
   "source": [
    "def neg_index_bitwise(num_nodes, edge_index):\n",
    "    adj_matrix = torch.zeros((num_nodes, num_nodes), dtype=torch.long)\n",
    "    for i in range(edge_index.size(1)):\n",
    "        u, v = int(edge_index[0, i]), int(edge_index[1, i])\n",
    "        adj_matrix[u, v] = 1\n",
    "        adj_matrix[v, u] = 1\n",
    "\n",
    "    neg_indices = []\n",
    "    for i in range(edge_index.size(1)):\n",
    "        u, v = int(edge_index[0, i]), int(edge_index[1, i])\n",
    "        adj_squared = torch.mm(adj_matrix, adj_matrix)\n",
    "        adj_row_u = adj_matrix[u]\n",
    "        adj_row_v = adj_matrix[v]\n",
    "        bitwise_and_result = torch.bitwise_and(adj_squared[u], adj_row_v[v])\n",
    "        sum_bitwise_and_result = torch.sum(bitwise_and_result)\n",
    "        sum_adj_u = torch.sum(adj_row_u)\n",
    "        sum_adj_v = torch.sum(adj_row_v)\n",
    "        neg_index = sum_bitwise_and_result.float() / (sum_adj_u + sum_adj_v)\n",
    "        neg_indices.append(neg_index.item())\n",
    "\n",
    "    return neg_indices"
   ]
  },
  {
   "cell_type": "code",
   "execution_count": 11,
   "metadata": {},
   "outputs": [],
   "source": [
    "neg_indices_2 = neg_index_bitwise(num_nodes, edge_index)"
   ]
  },
  {
   "cell_type": "code",
   "execution_count": 10,
   "metadata": {},
   "outputs": [],
   "source": [
    "def pos_index_bitwise(num_nodes, edge_index):\n",
    "    adj_matrix = torch.zeros((num_nodes, num_nodes), dtype=torch.long)\n",
    "    for i in range(edge_index.size(1)):\n",
    "        u, v = int(edge_index[0, i]), int(edge_index[1, i])\n",
    "        adj_matrix[u, v] = 1\n",
    "        adj_matrix[v, u] = 1\n",
    "\n",
    "    pos_indices = []\n",
    "    for i in range(edge_index.size(1)):\n",
    "        u, v = int(edge_index[0, i]), int(edge_index[1, i])\n",
    "        adj_row_u = adj_matrix[u]\n",
    "        adj_row_v = adj_matrix[v]\n",
    "        bitwise_and_result = torch.bitwise_and(adj_row_u, adj_row_v)\n",
    "        sum_bitwise_and_result = torch.sum(bitwise_and_result)\n",
    "        sum_adj_u = torch.sum(adj_row_u)\n",
    "        sum_adj_v = torch.sum(adj_row_v)\n",
    "        pos_index = sum_bitwise_and_result.float() / (sum_adj_u + sum_adj_v)\n",
    "        pos_indices.append(pos_index.item())\n",
    "\n",
    "    return pos_indices"
   ]
  },
  {
   "cell_type": "code",
   "execution_count": 11,
   "metadata": {},
   "outputs": [],
   "source": [
    "pos_indices_2 = pos_index_bitwise(num_nodes, edge_index)"
   ]
  },
  {
   "cell_type": "code",
   "execution_count": 16,
   "metadata": {},
   "outputs": [
    {
     "data": {
      "text/plain": [
       "False"
      ]
     },
     "execution_count": 16,
     "metadata": {},
     "output_type": "execute_result"
    }
   ],
   "source": [
    "pos_indices == pos_indices_2"
   ]
  },
  {
   "cell_type": "code",
   "execution_count": 18,
   "metadata": {},
   "outputs": [
    {
     "data": {
      "text/plain": [
       "False"
      ]
     },
     "execution_count": 18,
     "metadata": {},
     "output_type": "execute_result"
    }
   ],
   "source": [
    "neg_indices==neg_indices_2"
   ]
  },
  {
   "cell_type": "code",
   "execution_count": null,
   "metadata": {},
   "outputs": [],
   "source": []
  }
 ],
 "metadata": {
  "kernelspec": {
   "display_name": "GDL",
   "language": "python",
   "name": "python3"
  },
  "language_info": {
   "codemirror_mode": {
    "name": "ipython",
    "version": 3
   },
   "file_extension": ".py",
   "mimetype": "text/x-python",
   "name": "python",
   "nbconvert_exporter": "python",
   "pygments_lexer": "ipython3",
   "version": "3.8.16"
  }
 },
 "nbformat": 4,
 "nbformat_minor": 2
}
