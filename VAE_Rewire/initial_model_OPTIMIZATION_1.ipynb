{
 "cells": [
  {
   "cell_type": "markdown",
   "metadata": {},
   "source": [
    "In this version we are doing bayesian optimization instead of deterministic optimization"
   ]
  },
  {
   "cell_type": "code",
   "execution_count": 1,
   "metadata": {},
   "outputs": [
    {
     "data": {
      "text/html": [
       "\n",
       "\t\t\t<script type=\"text/javascript\">\n",
       "\t\t\t<!--\n",
       "\t\t\t\t\n",
       "\t\t\t{\n",
       "\t\t\t\tvar element = document.getElementById('NetworKit_script');\n",
       "\t\t\t\tif (element) {\n",
       "\t\t\t\t\telement.parentNode.removeChild(element);\n",
       "\t\t\t\t}\n",
       "\t\t\t\telement = document.createElement('script');\n",
       "\t\t\t\telement.type = 'text/javascript';\n",
       "\t\t\t\telement.innerHTML = 'function NetworKit_pageEmbed(id) { var i, j; var elements; elements = document.getElementById(id).getElementsByClassName(\"Plot\"); for (i=0; i<elements.length; i++) { elements[i].id = id + \"_Plot_\" + i; var data = elements[i].getAttribute(\"data-image\").split(\"|\"); elements[i].removeAttribute(\"data-image\"); var content = \"<div class=\\\\\"Image\\\\\" id=\\\\\"\" + elements[i].id + \"_Image\\\\\" />\"; elements[i].innerHTML = content; elements[i].setAttribute(\"data-image-index\", 0); elements[i].setAttribute(\"data-image-length\", data.length); for (j=0; j<data.length; j++) { elements[i].setAttribute(\"data-image-\" + j, data[j]); } NetworKit_plotUpdate(elements[i]); elements[i].onclick = function (e) { NetworKit_overlayShow((e.target) ? e.target : e.srcElement); } } elements = document.getElementById(id).getElementsByClassName(\"HeatCell\"); for (i=0; i<elements.length; i++) { var data = parseFloat(elements[i].getAttribute(\"data-heat\")); var color = \"#00FF00\"; if (data <= 1 && data > 0) { color = \"hsla(0, 100%, 75%, \" + (data) + \")\"; } else if (data <= 0 && data >= -1) { color = \"hsla(240, 100%, 75%, \" + (-data) + \")\"; } elements[i].style.backgroundColor = color; } elements = document.getElementById(id).getElementsByClassName(\"Details\"); for (i=0; i<elements.length; i++) { elements[i].setAttribute(\"data-title\", \"-\"); NetworKit_toggleDetails(elements[i]); elements[i].onclick = function (e) { NetworKit_toggleDetails((e.target) ? e.target : e.srcElement); } } elements = document.getElementById(id).getElementsByClassName(\"MathValue\"); for (i=elements.length-1; i>=0; i--) { value = elements[i].innerHTML.trim(); if (value === \"nan\") { elements[i].parentNode.innerHTML = \"\" } } elements = document.getElementById(id).getElementsByClassName(\"SubCategory\"); for (i=elements.length-1; i>=0; i--) { value = elements[i].innerHTML.trim(); if (value === \"\") { elements[i].parentNode.removeChild(elements[i]) } } elements = document.getElementById(id).getElementsByClassName(\"Category\"); for (i=elements.length-1; i>=0; i--) { value = elements[i].innerHTML.trim(); if (value === \"\") { elements[i].parentNode.removeChild(elements[i]) } } var isFirefox = false; try { isFirefox = typeof InstallTrigger !== \"undefined\"; } catch (e) {} if (!isFirefox) { alert(\"Currently the function\\'s output is only fully supported by Firefox.\"); } } function NetworKit_plotUpdate(source) { var index = source.getAttribute(\"data-image-index\"); var data = source.getAttribute(\"data-image-\" + index); var image = document.getElementById(source.id + \"_Image\"); image.style.backgroundImage = \"url(\" + data + \")\"; } function NetworKit_showElement(id, show) { var element = document.getElementById(id); element.style.display = (show) ? \"block\" : \"none\"; } function NetworKit_overlayShow(source) { NetworKit_overlayUpdate(source); NetworKit_showElement(\"NetworKit_Overlay\", true); } function NetworKit_overlayUpdate(source) { document.getElementById(\"NetworKit_Overlay_Title\").innerHTML = source.title; var index = source.getAttribute(\"data-image-index\"); var data = source.getAttribute(\"data-image-\" + index); var image = document.getElementById(\"NetworKit_Overlay_Image\"); image.setAttribute(\"data-id\", source.id); image.style.backgroundImage = \"url(\" + data + \")\"; var link = document.getElementById(\"NetworKit_Overlay_Toolbar_Bottom_Save\"); link.href = data; link.download = source.title + \".svg\"; } function NetworKit_overlayImageShift(delta) { var image = document.getElementById(\"NetworKit_Overlay_Image\"); var source = document.getElementById(image.getAttribute(\"data-id\")); var index = parseInt(source.getAttribute(\"data-image-index\")); var length = parseInt(source.getAttribute(\"data-image-length\")); var index = (index+delta) % length; if (index < 0) { index = length + index; } source.setAttribute(\"data-image-index\", index); NetworKit_overlayUpdate(source); } function NetworKit_toggleDetails(source) { var childs = source.children; var show = false; if (source.getAttribute(\"data-title\") == \"-\") { source.setAttribute(\"data-title\", \"+\"); show = false; } else { source.setAttribute(\"data-title\", \"-\"); show = true; } for (i=0; i<childs.length; i++) { if (show) { childs[i].style.display = \"block\"; } else { childs[i].style.display = \"none\"; } } }';\n",
       "\t\t\t\telement.setAttribute('id', 'NetworKit_script');\n",
       "\t\t\t\tdocument.head.appendChild(element);\n",
       "\t\t\t}\n",
       "\t\t\n",
       "\t\t\t\t\n",
       "\t\t\t{\n",
       "\t\t\t\tvar element = document.getElementById('NetworKit_style');\n",
       "\t\t\t\tif (element) {\n",
       "\t\t\t\t\telement.parentNode.removeChild(element);\n",
       "\t\t\t\t}\n",
       "\t\t\t\telement = document.createElement('style');\n",
       "\t\t\t\telement.type = 'text/css';\n",
       "\t\t\t\telement.innerHTML = '.NetworKit_Page { font-family: Arial, Helvetica, sans-serif; font-size: 14px; } .NetworKit_Page .Value:before { font-family: Arial, Helvetica, sans-serif; font-size: 1.05em; content: attr(data-title) \":\"; margin-left: -2.5em; padding-right: 0.5em; } .NetworKit_Page .Details .Value:before { display: block; } .NetworKit_Page .Value { font-family: monospace; white-space: pre; padding-left: 2.5em; white-space: -moz-pre-wrap !important; white-space: -pre-wrap; white-space: -o-pre-wrap; white-space: pre-wrap; word-wrap: break-word; tab-size: 4; -moz-tab-size: 4; } .NetworKit_Page .Category { clear: both; padding-left: 1em; margin-bottom: 1.5em; } .NetworKit_Page .Category:before { content: attr(data-title); font-size: 1.75em; display: block; margin-left: -0.8em; margin-bottom: 0.5em; } .NetworKit_Page .SubCategory { margin-bottom: 1.5em; padding-left: 1em; } .NetworKit_Page .SubCategory:before { font-size: 1.6em; display: block; margin-left: -0.8em; margin-bottom: 0.5em; } .NetworKit_Page .SubCategory[data-title]:before { content: attr(data-title); } .NetworKit_Page .Block { display: block; } .NetworKit_Page .Block:after { content: \".\"; visibility: hidden; display: block; height: 0; clear: both; } .NetworKit_Page .Block .Thumbnail_Overview, .NetworKit_Page .Block .Thumbnail_ScatterPlot { width: 260px; float: left; } .NetworKit_Page .Block .Thumbnail_Overview img, .NetworKit_Page .Block .Thumbnail_ScatterPlot img { width: 260px; } .NetworKit_Page .Block .Thumbnail_Overview:before, .NetworKit_Page .Block .Thumbnail_ScatterPlot:before { display: block; text-align: center; font-weight: bold; } .NetworKit_Page .Block .Thumbnail_Overview:before { content: attr(data-title); } .NetworKit_Page .HeatCell { font-family: \"Courier New\", Courier, monospace; cursor: pointer; } .NetworKit_Page .HeatCell, .NetworKit_Page .HeatCellName { display: inline; padding: 0.1em; margin-right: 2px; background-color: #FFFFFF } .NetworKit_Page .HeatCellName { margin-left: 0.25em; } .NetworKit_Page .HeatCell:before { content: attr(data-heat); display: inline-block; color: #000000; width: 4em; text-align: center; } .NetworKit_Page .Measure { clear: both; } .NetworKit_Page .Measure .Details { cursor: pointer; } .NetworKit_Page .Measure .Details:before { content: \"[\" attr(data-title) \"]\"; display: block; } .NetworKit_Page .Measure .Details .Value { border-left: 1px dotted black; margin-left: 0.4em; padding-left: 3.5em; pointer-events: none; } .NetworKit_Page .Measure .Details .Spacer:before { content: \".\"; opacity: 0.0; pointer-events: none; } .NetworKit_Page .Measure .Plot { width: 440px; height: 440px; cursor: pointer; float: left; margin-left: -0.9em; margin-right: 20px; } .NetworKit_Page .Measure .Plot .Image { background-repeat: no-repeat; background-position: center center; background-size: contain; height: 100%; pointer-events: none; } .NetworKit_Page .Measure .Stat { width: 500px; float: left; } .NetworKit_Page .Measure .Stat .Group { padding-left: 1.25em; margin-bottom: 0.75em; } .NetworKit_Page .Measure .Stat .Group .Title { font-size: 1.1em; display: block; margin-bottom: 0.3em; margin-left: -0.75em; border-right-style: dotted; border-right-width: 1px; border-bottom-style: dotted; border-bottom-width: 1px; background-color: #D0D0D0; padding-left: 0.2em; } .NetworKit_Page .Measure .Stat .Group .List { -webkit-column-count: 3; -moz-column-count: 3; column-count: 3; } .NetworKit_Page .Measure .Stat .Group .List .Entry { position: relative; line-height: 1.75em; } .NetworKit_Page .Measure .Stat .Group .List .Entry[data-tooltip]:before { position: absolute; left: 0; top: -40px; background-color: #808080; color: #ffffff; height: 30px; line-height: 30px; border-radius: 5px; padding: 0 15px; content: attr(data-tooltip); white-space: nowrap; display: none; } .NetworKit_Page .Measure .Stat .Group .List .Entry[data-tooltip]:after { position: absolute; left: 15px; top: -10px; border-top: 7px solid #808080; border-left: 7px solid transparent; border-right: 7px solid transparent; content: \"\"; display: none; } .NetworKit_Page .Measure .Stat .Group .List .Entry[data-tooltip]:hover:after, .NetworKit_Page .Measure .Stat .Group .List .Entry[data-tooltip]:hover:before { display: block; } .NetworKit_Page .Measure .Stat .Group .List .Entry .MathValue { font-family: \"Courier New\", Courier, monospace; } .NetworKit_Page .Measure:after { content: \".\"; visibility: hidden; display: block; height: 0; clear: both; } .NetworKit_Page .PartitionPie { clear: both; } .NetworKit_Page .PartitionPie img { width: 600px; } #NetworKit_Overlay { left: 0px; top: 0px; display: none; position: absolute; width: 100%; height: 100%; background-color: rgba(0,0,0,0.6); z-index: 1000; } #NetworKit_Overlay_Title { position: absolute; color: white; transform: rotate(-90deg); width: 32em; height: 32em; padding-right: 0.5em; padding-top: 0.5em; text-align: right; font-size: 40px; } #NetworKit_Overlay .button { background: white; cursor: pointer; } #NetworKit_Overlay .button:before { size: 13px; display: inline-block; text-align: center; margin-top: 0.5em; margin-bottom: 0.5em; width: 1.5em; height: 1.5em; } #NetworKit_Overlay .icon-close:before { content: \"X\"; } #NetworKit_Overlay .icon-previous:before { content: \"P\"; } #NetworKit_Overlay .icon-next:before { content: \"N\"; } #NetworKit_Overlay .icon-save:before { content: \"S\"; } #NetworKit_Overlay_Toolbar_Top, #NetworKit_Overlay_Toolbar_Bottom { position: absolute; width: 40px; right: 13px; text-align: right; z-index: 1100; } #NetworKit_Overlay_Toolbar_Top { top: 0.5em; } #NetworKit_Overlay_Toolbar_Bottom { Bottom: 0.5em; } #NetworKit_Overlay_ImageContainer { position: absolute; top: 5%; left: 5%; height: 90%; width: 90%; background-repeat: no-repeat; background-position: center center; background-size: contain; } #NetworKit_Overlay_Image { height: 100%; width: 100%; background-repeat: no-repeat; background-position: center center; background-size: contain; }';\n",
       "\t\t\t\telement.setAttribute('id', 'NetworKit_style');\n",
       "\t\t\t\tdocument.head.appendChild(element);\n",
       "\t\t\t}\n",
       "\t\t\n",
       "\t\t\t\t\n",
       "\t\t\t{\n",
       "\t\t\t\tvar element = document.getElementById('NetworKit_Overlay');\n",
       "\t\t\t\tif (element) {\n",
       "\t\t\t\t\telement.parentNode.removeChild(element);\n",
       "\t\t\t\t}\n",
       "\t\t\t\telement = document.createElement('div');\n",
       "\t\t\t\telement.innerHTML = '<div id=\"NetworKit_Overlay_Toolbar_Top\"><div class=\"button icon-close\" id=\"NetworKit_Overlay_Close\" /></div><div id=\"NetworKit_Overlay_Title\" /> <div id=\"NetworKit_Overlay_ImageContainer\"> <div id=\"NetworKit_Overlay_Image\" /> </div> <div id=\"NetworKit_Overlay_Toolbar_Bottom\"> <div class=\"button icon-previous\" onclick=\"NetworKit_overlayImageShift(-1)\" /> <div class=\"button icon-next\" onclick=\"NetworKit_overlayImageShift(1)\" /> <a id=\"NetworKit_Overlay_Toolbar_Bottom_Save\"><div class=\"button icon-save\" /></a> </div>';\n",
       "\t\t\t\telement.setAttribute('id', 'NetworKit_Overlay');\n",
       "\t\t\t\tdocument.body.appendChild(element);\n",
       "\t\t\t\tdocument.getElementById('NetworKit_Overlay_Close').onclick = function (e) {\n",
       "\t\t\t\t\tdocument.getElementById('NetworKit_Overlay').style.display = 'none';\n",
       "\t\t\t\t}\n",
       "\t\t\t}\n",
       "\t\t\n",
       "\t\t\t-->\n",
       "\t\t\t</script>\n",
       "\t\t"
      ]
     },
     "metadata": {},
     "output_type": "display_data"
    },
    {
     "name": "stderr",
     "output_type": "stream",
     "text": [
      "/home/siddy/anaconda3/envs/GDL/lib/python3.8/site-packages/nxviz/__init__.py:18: UserWarning: \n",
      "nxviz has a new API! Version 0.7.4 onwards, the old class-based API is being\n",
      "deprecated in favour of a new API focused on advancing a grammar of network\n",
      "graphics. If your plotting code depends on the old API, please consider\n",
      "pinning nxviz at version 0.7.4, as the new API will break your old code.\n",
      "\n",
      "To check out the new API, please head over to the docs at\n",
      "https://ericmjl.github.io/nxviz/ to learn more. We hope you enjoy using it!\n",
      "\n",
      "(This deprecation message will go away in version 1.0.)\n",
      "\n",
      "  warnings.warn(\n"
     ]
    }
   ],
   "source": [
    "import numpy as np\n",
    "from sklearn.model_selection import train_test_split\n",
    "import plotly\n",
    "import torch_geometric.data as data\n",
    "from torch_geometric.loader import DataLoader\n",
    "from tqdm import tqdm\n",
    "\n",
    "from networkit import *\n",
    "import networkx as nx\n",
    "import nxviz as nv\n",
    "import matplotlib\n",
    "import matplotlib.pyplot as plt\n",
    "import numpy as np\n",
    "from sklearn.metrics import classification_report\n",
    "from sklearn.metrics import average_precision_score, roc_auc_score\n",
    "from sklearn.metrics import f1_score\n",
    "\n",
    "import torch\n",
    "from torch.nn import Linear\n",
    "import torch.nn.functional as F\n",
    "from sklearn.metrics import roc_auc_score\n",
    "from torch.nn.functional import normalize\n",
    "from torch_geometric.datasets import WebKB, StochasticBlockModelDataset\n",
    "from torch_geometric.utils import negative_sampling, to_networkx, to_dense_adj\n",
    "from torch_geometric.nn import GCNConv, SAGEConv, GATConv, GraphConv, TransformerConv   \n",
    "from torch_geometric.utils import train_test_split_edges\n",
    "import matplotlib.pyplot as plt"
   ]
  },
  {
   "cell_type": "code",
   "execution_count": 2,
   "metadata": {},
   "outputs": [],
   "source": [
    "device = torch.device(\"cuda\" if torch.cuda.is_available() else \"cpu\")"
   ]
  },
  {
   "cell_type": "code",
   "execution_count": 3,
   "metadata": {},
   "outputs": [],
   "source": [
    "dataset = StochasticBlockModelDataset(root=\"/home/siddy/META/data\", block_sizes=[10,10], edge_probs=[[0.3, 0.1], [0.1, 0.3]], is_undirected=True)\n",
    "data = dataset[0].to(device)"
   ]
  },
  {
   "cell_type": "code",
   "execution_count": 4,
   "metadata": {},
   "outputs": [
    {
     "data": {
      "text/plain": [
       "Data(edge_index=[2, 66], y=[20])"
      ]
     },
     "execution_count": 4,
     "metadata": {},
     "output_type": "execute_result"
    }
   ],
   "source": [
    "data"
   ]
  },
  {
   "cell_type": "code",
   "execution_count": null,
   "metadata": {},
   "outputs": [],
   "source": []
  },
  {
   "cell_type": "code",
   "execution_count": 5,
   "metadata": {},
   "outputs": [],
   "source": [
    "def neg_index(data):\n",
    "    num_nodes = data.num_nodes\n",
    "    edge_index = data.edge_index\n",
    "\n",
    "    # Convert edge indices to adjacency matrix\n",
    "    adj_matrix = torch.zeros((num_nodes, num_nodes), dtype=torch.long)\n",
    "    for i in range(edge_index.size(1)):\n",
    "        u, v = int(edge_index[0, i]), int(edge_index[1, i])\n",
    "        adj_matrix[u, v] = 1\n",
    "        adj_matrix[v, u] = 1\n",
    "\n",
    "    neg_indices = []\n",
    "    for i in range(edge_index.size(1)):\n",
    "        u, v = int(edge_index[0, i]), int(edge_index[1, i])\n",
    "        adj_squared = torch.mm(adj_matrix, adj_matrix)\n",
    "        adj_row_u = adj_matrix[u]\n",
    "        adj_row_v = adj_matrix[v]\n",
    "        bitwise_and_result = torch.bitwise_and(adj_squared[u], adj_squared[v])\n",
    "        sum_bitwise_and_result = torch.sum(bitwise_and_result)\n",
    "        sum_adj_u = torch.sum(adj_row_u)\n",
    "        sum_adj_v = torch.sum(adj_row_v)\n",
    "        neg_index = sum_bitwise_and_result.float() / (sum_adj_u + sum_adj_v)\n",
    "        neg_indices.append(neg_index.item())\n",
    "\n",
    "    return neg_indices"
   ]
  },
  {
   "cell_type": "code",
   "execution_count": 6,
   "metadata": {},
   "outputs": [],
   "source": [
    "def pos_index(data):\n",
    "    num_nodes = data.num_nodes\n",
    "    edge_index = data.edge_index\n",
    "\n",
    "    adj_matrix = torch.zeros((num_nodes, num_nodes), dtype=torch.long)\n",
    "    for i in range(edge_index.size(1)):\n",
    "        u, v = int(edge_index[0, i]), int(edge_index[1, i])\n",
    "        adj_matrix[u, v] = 1\n",
    "        adj_matrix[v, u] = 1\n",
    "\n",
    "    pos_indices = []\n",
    "    for i in range(edge_index.size(1)):\n",
    "        u, v = int(edge_index[0, i]), int(edge_index[1, i])\n",
    "        adj_row_u = adj_matrix[u]\n",
    "        adj_row_v = adj_matrix[v]\n",
    "        bitwise_and_result = torch.bitwise_and(adj_row_u, adj_row_v)\n",
    "        sum_bitwise_and_result = torch.sum(bitwise_and_result)\n",
    "        sum_adj_u = torch.sum(adj_row_u)\n",
    "        sum_adj_v = torch.sum(adj_row_v)\n",
    "        pos_index = sum_bitwise_and_result.float() / (sum_adj_u + sum_adj_v)\n",
    "        pos_indices.append(pos_index.item())\n",
    "\n",
    "    return pos_indices"
   ]
  },
  {
   "cell_type": "code",
   "execution_count": 12,
   "metadata": {},
   "outputs": [],
   "source": [
    "#torch.clamp(sigma_1 - 0.5, min=0) + sigma_2\n",
    "def custom_objective(sigma_1, sigma_2):\n",
    "    return (sigma_1 - 0.5)**2 + sigma_2\n",
    "\n",
    "def create_variational_matrix_individual(data, num_nodes, edge_index):\n",
    "    variational_matrix = torch.nn.Parameter(torch.rand((num_nodes, num_nodes), dtype=torch.float), requires_grad=True)\n",
    "    optimizer = optim.Adam([variational_matrix], lr=0.001, weight_decay=5e-4)\n",
    "\n",
    "    \n",
    "    for epoch in range(1000):\n",
    "        optimizer.zero_grad()\n",
    "\n",
    "        # Calculate sigma_1 and sigma_2 for each e\n",
    "        neg_indices = neg_index(data)\n",
    "        pos_indices = pos_index(data)\n",
    "\n",
    "        total_loss = 0\n",
    "        for i in range(edge_index.size(1)):\n",
    "            u, v = int(edge_index[0, i]), int(edge_index[1, i])\n",
    "            # current pair\n",
    "            sigma_1 = torch.tensor(neg_indices[i], requires_grad=True)\n",
    "            sigma_2 = torch.tensor(pos_indices[i], requires_grad=True)\n",
    "            objective = custom_objective(sigma_1, sigma_2)\n",
    "            loss = torch.min(objective)\n",
    "            # Accumulate loss for all pairs\n",
    "            total_loss += loss\n",
    "\n",
    "        total_loss.backward()\n",
    "        optimizer.step()\n",
    "\n",
    "        if epoch % 100 == 0:\n",
    "            print(f\"Epoch {epoch + 1}, Total Loss: {total_loss.item()}\")\n",
    "\n",
    "    # Sampling from the learned variational matrix to generate an adjacency matrix\n",
    "    adjacency_matrix = torch.sigmoid(variational_matrix)  # Sigmoid to constrain values between 0 and 1\n",
    "\n",
    "    # Thresholding to convert probabilities into binary adjacency matrix\n",
    "    #adjacency_matrix_binary = (adjacency_matrix > 0.5).float()\n",
    "    #edge_index = torch.nonzero(adjacency_matrix, as_tuple=True)\n",
    "\n",
    "    return adjacency_matrix\n"
   ]
  },
  {
   "cell_type": "markdown",
   "metadata": {},
   "source": [
    "Trying out BOtorch"
   ]
  },
  {
   "cell_type": "code",
   "execution_count": 7,
   "metadata": {},
   "outputs": [
    {
     "name": "stderr",
     "output_type": "stream",
     "text": [
      "/home/siddy/anaconda3/envs/GDL/lib/python3.8/site-packages/torch_geometric/data/storage.py:327: UserWarning: Unable to accurately infer 'num_nodes' from the attribute set '{'edge_index', 'y'}'. Please explicitly set 'num_nodes' as an attribute of 'data' to suppress this warning\n",
      "  warnings.warn(\n"
     ]
    },
    {
     "data": {
      "application/vnd.plotly.v1+json": {
       "config": {
        "plotlyServerURL": "https://plot.ly"
       },
       "data": [
        {
         "autobinx": false,
         "histnorm": "probability density",
         "legendgroup": "neg_indices",
         "marker": {
          "color": "#A56CC1"
         },
         "name": "neg_indices",
         "opacity": 0.7,
         "type": "histogram",
         "x": [
          0.2222222238779068,
          0,
          0.3333333432674408,
          0.3333333432674408,
          0.375,
          0.7142857313156128,
          0.2222222238779068,
          0.4000000059604645,
          0.4166666567325592,
          0.800000011920929,
          0.4545454680919647,
          0.27272728085517883,
          0.4545454680919647,
          0.3333333432674408,
          0.4000000059604645,
          0,
          0.3333333432674408,
          0.375,
          0.4166666567325592,
          0.699999988079071,
          0.27272728085517883,
          0,
          0,
          0,
          0.800000011920929,
          0.7142857313156128,
          0.7142857313156128,
          0.7142857313156128,
          0.4545454680919647,
          0.7142857313156128,
          0.625,
          0,
          0.3333333432674408,
          0.27272728085517883,
          0.7142857313156128,
          0.5714285969734192,
          0.6000000238418579,
          0.20000000298023224,
          0.4285714328289032,
          0.2857142984867096,
          0.20000000298023224,
          0.125,
          0.5714285969734192,
          0.800000011920929,
          1,
          0.800000011920929,
          0.5714285969734192,
          0.4545454680919647,
          0.625,
          0.4285714328289032,
          0.30000001192092896,
          0.699999988079071,
          1,
          0.5714285969734192,
          0.3333333432674408,
          0.9090909361839294,
          0.3333333432674408,
          0.2857142984867096,
          0.3333333432674408,
          0.10000000149011612,
          0.27272728085517883,
          0.6000000238418579,
          0.125,
          0.30000001192092896,
          0.9090909361839294,
          0.10000000149011612
         ],
         "xaxis": "x",
         "xbins": {
          "end": 1,
          "size": 0.2,
          "start": 0
         },
         "yaxis": "y"
        },
        {
         "autobinx": false,
         "histnorm": "probability density",
         "legendgroup": "pos_indices",
         "marker": {
          "color": "#B8F7D4"
         },
         "name": "pos_indices",
         "opacity": 0.7,
         "type": "histogram",
         "x": [
          0,
          0,
          0,
          0,
          0,
          0,
          0,
          0,
          0,
          0.20000000298023224,
          0.1818181872367859,
          0.09090909361839294,
          0.09090909361839294,
          0,
          0,
          0,
          0,
          0,
          0,
          0.10000000149011612,
          0.09090909361839294,
          0,
          0,
          0,
          0.20000000298023224,
          0.1428571492433548,
          0.1428571492433548,
          0,
          0.1818181872367859,
          0.1428571492433548,
          0.125,
          0,
          0,
          0.09090909361839294,
          0.1428571492433548,
          0,
          0,
          0,
          0,
          0,
          0,
          0,
          0,
          0.20000000298023224,
          0.125,
          0.20000000298023224,
          0.1428571492433548,
          0.09090909361839294,
          0.125,
          0,
          0,
          0.10000000149011612,
          0.125,
          0.1428571492433548,
          0.1111111119389534,
          0.1818181872367859,
          0,
          0,
          0.1111111119389534,
          0.10000000149011612,
          0.09090909361839294,
          0,
          0,
          0,
          0.1818181872367859,
          0.10000000149011612
         ],
         "xaxis": "x",
         "xbins": {
          "end": 0.20000000298023224,
          "size": 0.2,
          "start": 0
         },
         "yaxis": "y"
        },
        {
         "legendgroup": "neg_indices",
         "marker": {
          "color": "#A56CC1"
         },
         "mode": "lines",
         "name": "neg_indices",
         "showlegend": false,
         "type": "scatter",
         "x": [
          0,
          0.002,
          0.004,
          0.006,
          0.008,
          0.01,
          0.012,
          0.014,
          0.016,
          0.018,
          0.02,
          0.022,
          0.024,
          0.026,
          0.028,
          0.03,
          0.032,
          0.034,
          0.036,
          0.038,
          0.04,
          0.042,
          0.044,
          0.046,
          0.048,
          0.05,
          0.052,
          0.054,
          0.056,
          0.058,
          0.06,
          0.062,
          0.064,
          0.066,
          0.068,
          0.07,
          0.072,
          0.074,
          0.076,
          0.078,
          0.08,
          0.082,
          0.084,
          0.086,
          0.088,
          0.09,
          0.092,
          0.094,
          0.096,
          0.098,
          0.1,
          0.102,
          0.104,
          0.106,
          0.108,
          0.11,
          0.112,
          0.114,
          0.116,
          0.118,
          0.12,
          0.122,
          0.124,
          0.126,
          0.128,
          0.13,
          0.132,
          0.134,
          0.136,
          0.138,
          0.14,
          0.142,
          0.144,
          0.146,
          0.148,
          0.15,
          0.152,
          0.154,
          0.156,
          0.158,
          0.16,
          0.162,
          0.164,
          0.166,
          0.168,
          0.17,
          0.172,
          0.174,
          0.176,
          0.178,
          0.18,
          0.182,
          0.184,
          0.186,
          0.188,
          0.19,
          0.192,
          0.194,
          0.196,
          0.198,
          0.2,
          0.202,
          0.204,
          0.206,
          0.208,
          0.21,
          0.212,
          0.214,
          0.216,
          0.218,
          0.22,
          0.222,
          0.224,
          0.226,
          0.228,
          0.23,
          0.232,
          0.234,
          0.236,
          0.238,
          0.24,
          0.242,
          0.244,
          0.246,
          0.248,
          0.25,
          0.252,
          0.254,
          0.256,
          0.258,
          0.26,
          0.262,
          0.264,
          0.266,
          0.268,
          0.27,
          0.272,
          0.274,
          0.276,
          0.278,
          0.28,
          0.282,
          0.284,
          0.286,
          0.288,
          0.29,
          0.292,
          0.294,
          0.296,
          0.298,
          0.3,
          0.302,
          0.304,
          0.306,
          0.308,
          0.31,
          0.312,
          0.314,
          0.316,
          0.318,
          0.32,
          0.322,
          0.324,
          0.326,
          0.328,
          0.33,
          0.332,
          0.334,
          0.336,
          0.338,
          0.34,
          0.342,
          0.344,
          0.346,
          0.348,
          0.35,
          0.352,
          0.354,
          0.356,
          0.358,
          0.36,
          0.362,
          0.364,
          0.366,
          0.368,
          0.37,
          0.372,
          0.374,
          0.376,
          0.378,
          0.38,
          0.382,
          0.384,
          0.386,
          0.388,
          0.39,
          0.392,
          0.394,
          0.396,
          0.398,
          0.4,
          0.402,
          0.404,
          0.406,
          0.408,
          0.41,
          0.412,
          0.414,
          0.416,
          0.418,
          0.42,
          0.422,
          0.424,
          0.426,
          0.428,
          0.43,
          0.432,
          0.434,
          0.436,
          0.438,
          0.44,
          0.442,
          0.444,
          0.446,
          0.448,
          0.45,
          0.452,
          0.454,
          0.456,
          0.458,
          0.46,
          0.462,
          0.464,
          0.466,
          0.468,
          0.47,
          0.472,
          0.474,
          0.476,
          0.478,
          0.48,
          0.482,
          0.484,
          0.486,
          0.488,
          0.49,
          0.492,
          0.494,
          0.496,
          0.498,
          0.5,
          0.502,
          0.504,
          0.506,
          0.508,
          0.51,
          0.512,
          0.514,
          0.516,
          0.518,
          0.52,
          0.522,
          0.524,
          0.526,
          0.528,
          0.53,
          0.532,
          0.534,
          0.536,
          0.538,
          0.54,
          0.542,
          0.544,
          0.546,
          0.548,
          0.55,
          0.552,
          0.554,
          0.556,
          0.558,
          0.56,
          0.562,
          0.564,
          0.566,
          0.568,
          0.57,
          0.572,
          0.574,
          0.576,
          0.578,
          0.58,
          0.582,
          0.584,
          0.586,
          0.588,
          0.59,
          0.592,
          0.594,
          0.596,
          0.598,
          0.6,
          0.602,
          0.604,
          0.606,
          0.608,
          0.61,
          0.612,
          0.614,
          0.616,
          0.618,
          0.62,
          0.622,
          0.624,
          0.626,
          0.628,
          0.63,
          0.632,
          0.634,
          0.636,
          0.638,
          0.64,
          0.642,
          0.644,
          0.646,
          0.648,
          0.65,
          0.652,
          0.654,
          0.656,
          0.658,
          0.66,
          0.662,
          0.664,
          0.666,
          0.668,
          0.67,
          0.672,
          0.674,
          0.676,
          0.678,
          0.68,
          0.682,
          0.684,
          0.686,
          0.688,
          0.69,
          0.692,
          0.694,
          0.696,
          0.698,
          0.7,
          0.702,
          0.704,
          0.706,
          0.708,
          0.71,
          0.712,
          0.714,
          0.716,
          0.718,
          0.72,
          0.722,
          0.724,
          0.726,
          0.728,
          0.73,
          0.732,
          0.734,
          0.736,
          0.738,
          0.74,
          0.742,
          0.744,
          0.746,
          0.748,
          0.75,
          0.752,
          0.754,
          0.756,
          0.758,
          0.76,
          0.762,
          0.764,
          0.766,
          0.768,
          0.77,
          0.772,
          0.774,
          0.776,
          0.778,
          0.78,
          0.782,
          0.784,
          0.786,
          0.788,
          0.79,
          0.792,
          0.794,
          0.796,
          0.798,
          0.8,
          0.802,
          0.804,
          0.806,
          0.808,
          0.81,
          0.812,
          0.814,
          0.816,
          0.818,
          0.82,
          0.822,
          0.824,
          0.826,
          0.828,
          0.83,
          0.832,
          0.834,
          0.836,
          0.838,
          0.84,
          0.842,
          0.844,
          0.846,
          0.848,
          0.85,
          0.852,
          0.854,
          0.856,
          0.858,
          0.86,
          0.862,
          0.864,
          0.866,
          0.868,
          0.87,
          0.872,
          0.874,
          0.876,
          0.878,
          0.88,
          0.882,
          0.884,
          0.886,
          0.888,
          0.89,
          0.892,
          0.894,
          0.896,
          0.898,
          0.9,
          0.902,
          0.904,
          0.906,
          0.908,
          0.91,
          0.912,
          0.914,
          0.916,
          0.918,
          0.92,
          0.922,
          0.924,
          0.926,
          0.928,
          0.93,
          0.932,
          0.934,
          0.936,
          0.938,
          0.94,
          0.942,
          0.944,
          0.946,
          0.948,
          0.95,
          0.952,
          0.954,
          0.956,
          0.958,
          0.96,
          0.962,
          0.964,
          0.966,
          0.968,
          0.97,
          0.972,
          0.974,
          0.976,
          0.978,
          0.98,
          0.982,
          0.984,
          0.986,
          0.988,
          0.99,
          0.992,
          0.994,
          0.996,
          0.998
         ],
         "xaxis": "x",
         "y": [
          0.5144232557894856,
          0.5191061611924577,
          0.5237651312832023,
          0.52840055763819,
          0.5330129094900844,
          0.5376027334817332,
          0.5421706532811389,
          0.546717369056906,
          0.551243656813882,
          0.555750367588983,
          0.5602384265074493,
          0.5647088317000196,
          0.5691626530817745,
          0.5736010309936556,
          0.5780251747079049,
          0.5824363607989286,
          0.5868359313813353,
          0.5912252922171326,
          0.5956059106943123,
          0.5999793136792928,
          0.6043470852459049,
          0.6087108642838442,
          0.6130723419897373,
          0.6174332592441634,
          0.6217954038782096,
          0.6261606078333144,
          0.6305307442183666,
          0.6349077242682153,
          0.6392934942079105,
          0.6436900320271918,
          0.6480993441698925,
          0.6525234621430878,
          0.6569644390509699,
          0.6614243460585719,
          0.6659052687905895,
          0.6704093036706843,
          0.6749385542067631,
          0.6794951272278246,
          0.6840811290780792,
          0.6886986617741243,
          0.6933498191310347,
          0.6980366828633043,
          0.7027613186666333,
          0.7075257722865995,
          0.7123320655802982,
          0.7171821925770744,
          0.7220781155444765,
          0.7270217610655862,
          0.732015016133882,
          0.7370597242717808,
          0.7421576816789982,
          0.7473106334168299,
          0.7525202696344413,
          0.757788221843188,
          0.7631160592449615,
          0.7685052851204787,
          0.7739573332833708,
          0.779473564605846,
          0.7850552636216298,
          0.7907036352117591,
          0.7964198013787475,
          0.8022047981144921,
          0.808059572367193,
          0.8139849791124232,
          0.819981778533356,
          0.8260506333150152,
          0.8321921060572606,
          0.8384066568110726,
          0.8446946407425304,
          0.8510563059287112,
          0.8574917912895668,
          0.864001124659637,
          0.870584221003298,
          0.8772408807770068,
          0.8839707884418597,
          0.8907735111295135,
          0.897648497464368,
          0.9045950765446473,
          0.9116124570848149,
          0.9186997267215438,
          0.9258558514852129,
          0.9330796754386811,
          0.9403699204848466,
          0.9477251863442719,
          0.9551439507038997,
          0.9626245695376386,
          0.9701652775993714,
          0.9777641890886523,
          0.9854192984891499,
          0.9931284815796072,
          1.0008894966168536,
          1.0086999856901449,
          1.016557476245858,
          1.0244593827813009,
          1.032403008706159,
          1.040385548369847,
          1.0484040892527622,
          1.0564556143192174,
          1.064537004529559,
          1.0726450415087503,
          1.0807764103684387,
          1.088927702679309,
          1.0970954195902665,
          1.1052759750907941,
          1.1134656994125638,
          1.1216608425661971,
          1.1298575780088334,
          1.1380520064379624,
          1.146240159706771,
          1.1544180048560577,
          1.1625814482575894,
          1.1707263398635628,
          1.1788484775567059,
          1.186943611595329,
          1.195007449147531,
          1.2030356589085804,
          1.2110238757953649,
          1.218967705711664,
          1.226862730377891,
          1.234704512218813,
          1.242488599302683,
          1.2502105303250994,
          1.257865839630856,
          1.265450062266936,
          1.272958739059782,
          1.2803874217098936,
          1.2877316778967804,
          1.2949870963872694,
          1.3021492921401472,
          1.3092139114000976,
          1.316176636773943,
          1.3230331922821472,
          1.3297793483786366,
          1.336410926931984,
          1.3429238061610744,
          1.3493139255184252,
          1.3555772905144083,
          1.3617099774756902,
          1.367708138231331,
          1.3735680047200478,
          1.3792858935122907,
          1.3848582102408769,
          1.3902814539340997,
          1.3955522212453302,
          1.4006672105732907,
          1.4056232260673782,
          1.4104171815125128,
          1.415046104088245,
          1.4195071379969575,
          1.4237975479562641,
          1.4279147225508613,
          1.4318561774392968,
          1.4356195584113607,
          1.4392026442919899,
          1.4426033496878208,
          1.4458197275727518,
          1.448849971709087,
          1.451692418901124,
          1.4543455510782188,
          1.4568079972046808,
          1.4590785350140263,
          1.4611560925654454,
          1.4630397496205105,
          1.4647287388384842,
          1.4662224467887817,
          1.4675204147794474,
          1.4686223395007214,
          1.4695280734830516,
          1.470237625369184,
          1.4707511600001624,
          1.471068998315396,
          1.4711916170671497,
          1.4711196483500983,
          1.4708538789468262,
          1.4703952494904042,
          1.4697448534454067,
          1.4689039359090141,
          1.4678738922340222,
          1.4666562664758802,
          1.4652527496660712,
          1.4636651779143763,
          1.4618955303428023,
          1.4599459268541763,
          1.4578186257385768,
          1.4555160211210374,
          1.4530406402541278,
          1.4503951406592064,
          1.447582307120345,
          1.4446050485351187,
          1.441466394626582,
          1.4381694925209847,
          1.4347176031959064,
          1.431114097803647,
          1.4273624538748686,
          1.4234662514076304,
          1.4194291688470757,
          1.4152549789611697,
          1.4109475446180018,
          1.4065108144702851,
          1.4019488185527622,
          1.3972656637983654,
          1.392465529479024,
          1.3875526625771168,
          1.3825313730936235,
          1.3774060292991026,
          1.372181052933672,
          1.3668609143622015,
          1.3614501276909914,
          1.3559532458522066,
          1.3503748556623825,
          1.344719572861302,
          1.3389920371375836,
          1.3331969071472665,
          1.327338855531697,
          1.321422563941,
          1.3154527180693434,
          1.3094340027082194,
          1.3033710968238748,
          1.2972686686649832,
          1.2911313709065795,
          1.2849638358361934,
          1.2787706705880701,
          1.2725564524312216,
          1.2663257241169878,
          1.2600829892916867,
          1.253832707979784,
          1.247579292142919,
          1.2413271013199791,
          1.235080438353282,
          1.2288435452057922,
          1.2226205988741132,
          1.216415707401877,
          1.2102329059979868,
          1.204076153263949,
          1.197949327534433,
          1.1918562233349403,
          1.1858005479603482,
          1.1797859181778347,
          1.1738158570575543,
          1.1678937909341895,
          1.162023046502345,
          1.1562068480484904,
          1.1504483148220026,
          1.1447504585476014,
          1.1391161810812944,
          1.1335482722116972,
          1.1280494076084027,
          1.122622146918845,
          1.1172689320148768,
          1.1119920853900733,
          1.106793808708543,
          1.1016761815058191,
          1.0966411600421704,
          1.0916905763084805,
          1.086826137184593,
          1.0820494237498466,
          1.0773618907452873,
          1.0727648661868452,
          1.068259551128571,
          1.0638470195748109,
          1.0595282185400114,
          1.055303968254665,
          1.0511749625157054,
          1.0471417691794762,
          1.0432048307952642,
          1.0393644653771459,
          1.0356208673118181,
          1.031974108399846,
          1.0284241390276745,
          1.0249707894675666,
          1.0216137713025142,
          1.0183526789730282,
          1.0151869914425984,
          1.0121160739784991,
          1.0091391800444955,
          1.00625545330193,
          1.0034639297155512,
          1.0007635397603802,
          0.9981531107258189,
          0.9956313691131515,
          0.993196943122504,
          0.990848365225304,
          0.9885840748181985,
          0.9864024209543896,
          0.9843016651482698,
          0.9822799842492483,
          0.9803354733806381,
          0.978466148939419,
          0.9766699516527609,
          0.9749447496871085,
          0.9732883418057118,
          0.9716984605704349,
          0.9701727755837384,
          0.9687088967667346,
          0.9673043776692382,
          0.9659567188077812,
          0.9646633710275933,
          0.963421738884586,
          0.96222918404342,
          0.9610830286878066,
          0.9599805589392207,
          0.9589190282802629,
          0.9578956609789878,
          0.9569076555105396,
          0.9559521879725389,
          0.9550264154906875,
          0.9541274796111682,
          0.9532525096764374,
          0.9523986261811253,
          0.951562944104784,
          0.9507425762183284,
          0.9499346363610641,
          0.9491362426852806,
          0.9483445208654546,
          0.947556607269175,
          0.9467696520869959,
          0.9459808224184519,
          0.9451873053115971,
          0.9443863107534463,
          0.9435750746088143,
          0.9427508615050791,
          0.9419109676604949,
          0.9410527236537358,
          0.9401734971324196,
          0.9392706954584313,
          0.9383417682879461,
          0.9373842100840852,
          0.9363955625602483,
          0.9353734170522053,
          0.9343154168170907,
          0.9332192592575422,
          0.932082698069258,
          0.9309035453103311,
          0.9296796733907879,
          0.9284090169808048,
          0.9270895748361762,
          0.9257194115396448,
          0.9242966591567899,
          0.922819518805236,
          0.9212862621360174,
          0.919695232725993,
          0.9180448473802988,
          0.9163335973438789,
          0.9145600494212319,
          0.9127228470035633,
          0.9108207110026358,
          0.9088524406906786,
          0.9068169144457956,
          0.9047130904024087,
          0.9025400070063474,
          0.9002967834742889,
          0.8979826201573466,
          0.8955967988086881,
          0.893138682755168,
          0.8906077169730556,
          0.8880034280680239,
          0.8853254241596873,
          0.8825733946710622,
          0.8797471100234306,
          0.8768464212372095,
          0.8738712594394991,
          0.8708216352791464,
          0.867697638250213,
          0.8644994359248925,
          0.8612272730970156,
          0.8578814708373944,
          0.8544624254623706,
          0.850970607417069,
          0.8474065600749324,
          0.8437708984552651,
          0.8400643078606144,
          0.8362875424359164,
          0.8324414236514744,
          0.8285268387119435,
          0.8245447388935709,
          0.820496137812106,
          0.816382109623862,
          0.8122037871625208,
          0.8079623600143926,
          0.8036590725349178,
          0.7992952218093132,
          0.7948721555603477,
          0.7903912700063161,
          0.7858540076723772,
          0.7812618551585065,
          0.7766163408673457,
          0.7719190326953805,
          0.7671715356908563,
          0.7623754896819743,
          0.7575325668789155,
          0.7526444694533099,
          0.7477129270988203,
          0.7427396945765102,
          0.7377265492487465,
          0.7326752886053507,
          0.7275877277857918,
          0.7224656971011638,
          0.7173110395597433,
          0.7121256083998769,
          0.7069112646339673,
          0.7016698746072888,
          0.6964033075753417,
          0.6911134333034281,
          0.6858021196920756,
          0.680471230431899,
          0.6751226226914379,
          0.6697581448414279,
          0.6643796342189086,
          0.6589889149344986,
          0.6535877957260617,
          0.6481780678619259,
          0.6427615030967017,
          0.6373398516826513,
          0.6319148404394532,
          0.6264881708850794,
          0.6210615174304067,
          0.6156365256400297,
          0.6102148105616334,
          0.604797955126139,
          0.5993875086207064,
          0.593984985236508,
          0.5885918626930807,
          0.5832095809408715,
          0.5778395409434682,
          0.5724831035408336,
          0.5671415883947022,
          0.5618162730171524,
          0.5565083918831811,
          0.5512191356279648,
          0.5459496503293116,
          0.5407010368756486,
          0.5354743504197258,
          0.5302705999180454,
          0.5250907477558663,
          0.5199357094574649,
          0.5148063534811786,
          0.5097035010985865,
          0.5046279263570318,
          0.49958035612453244,
          0.4945614702159703,
          0.4895719015993035,
          0.4846122366803963,
          0.4796830156649183,
          0.4747847329956315,
          0.4699178378632409,
          0.46508273478886314,
          0.46027978427603894,
          0.45550930353009594,
          0.4507715672425582,
          0.4460668084381865,
          0.4413952193821366,
          0.436756952544625,
          0.4321521216203966,
          0.4275808026002204,
          0.42304303489154643,
          0.4185388224854022,
          0.4140681351665333,
          0.40963090976374866,
          0.4052270514373696,
          0.4008564350006549,
          0.3965189062720329,
          0.39221428345493636,
          0.3879423585420444,
          0.3837028987406829,
          0.3794956479161719,
          0.375320328049879,
          0.3711766407087625,
          0.36706426852320323,
          0.3629828766699398,
          0.3589321143569631,
          0.35491161630725065,
          0.3509210042382776,
          0.3469598883342718,
          0.3430278687082638,
          0.3391245368510114,
          0.33524947706397523,
          0.33140226787357907,
          0.3275824834240631,
          0.3237896948463412,
          0.32002347160033784,
          0.3162833827883938,
          0.31256899843741254,
          0.3088798907475272,
          0.3052156353051762,
          0.301575812258572,
          0.29796000745367784,
          0.29436781352890484,
          0.2907988309668664,
          0.2872526691016524,
          0.2837289470801932,
          0.2802272947764232,
          0.2767473536570631,
          0.2732887775979783,
          0.26985123365019104,
          0.2664344027547455,
          0.2630379804057719,
          0.25966167726119255,
          0.2563052197006691,
          0.25296835033049647,
          0.2496508284352763
         ],
         "yaxis": "y"
        },
        {
         "legendgroup": "pos_indices",
         "marker": {
          "color": "#B8F7D4"
         },
         "mode": "lines",
         "name": "pos_indices",
         "showlegend": false,
         "type": "scatter",
         "x": [
          0,
          0.00040000000596046445,
          0.0008000000119209289,
          0.0012000000178813935,
          0.0016000000238418578,
          0.0020000000298023225,
          0.002400000035762787,
          0.002800000041723251,
          0.0032000000476837156,
          0.00360000005364418,
          0.004000000059604645,
          0.004400000065565109,
          0.004800000071525574,
          0.005200000077486038,
          0.005600000083446502,
          0.006000000089406967,
          0.006400000095367431,
          0.006800000101327896,
          0.00720000010728836,
          0.007600000113248825,
          0.00800000011920929,
          0.008400000125169754,
          0.008800000131130218,
          0.009200000137090682,
          0.009600000143051148,
          0.010000000149011612,
          0.010400000154972076,
          0.01080000016093254,
          0.011200000166893005,
          0.01160000017285347,
          0.012000000178813934,
          0.012400000184774398,
          0.012800000190734863,
          0.013200000196695328,
          0.013600000202655792,
          0.014000000208616257,
          0.01440000021457672,
          0.014800000220537186,
          0.01520000022649765,
          0.015600000232458115,
          0.01600000023841858,
          0.016400000244379043,
          0.01680000025033951,
          0.01720000025629997,
          0.017600000262260437,
          0.018000000268220902,
          0.018400000274181365,
          0.01880000028014183,
          0.019200000286102296,
          0.01960000029206276,
          0.020000000298023225,
          0.020400000303983687,
          0.020800000309944153,
          0.02120000031590462,
          0.02160000032186508,
          0.022000000327825547,
          0.02240000033378601,
          0.022800000339746475,
          0.02320000034570694,
          0.023600000351667403,
          0.02400000035762787,
          0.024400000363588335,
          0.024800000369548797,
          0.025200000375509263,
          0.025600000381469725,
          0.02600000038743019,
          0.026400000393390657,
          0.02680000039935112,
          0.027200000405311585,
          0.02760000041127205,
          0.028000000417232513,
          0.02840000042319298,
          0.02880000042915344,
          0.029200000435113907,
          0.029600000441074373,
          0.030000000447034835,
          0.0304000004529953,
          0.030800000458955763,
          0.03120000046491623,
          0.031600000470876695,
          0.03200000047683716,
          0.03240000048279762,
          0.032800000488758085,
          0.03320000049471855,
          0.03360000050067902,
          0.03400000050663948,
          0.03440000051259994,
          0.03480000051856041,
          0.03520000052452087,
          0.03560000053048134,
          0.036000000536441805,
          0.03640000054240227,
          0.03680000054836273,
          0.037200000554323195,
          0.03760000056028366,
          0.03800000056624413,
          0.03840000057220459,
          0.03880000057816505,
          0.03920000058412552,
          0.03960000059008598,
          0.04000000059604645,
          0.040400000602006915,
          0.040800000607967374,
          0.04120000061392784,
          0.041600000619888305,
          0.04200000062584877,
          0.04240000063180924,
          0.042800000637769696,
          0.04320000064373016,
          0.04360000064969063,
          0.04400000065565109,
          0.04440000066161156,
          0.04480000066757202,
          0.045200000673532484,
          0.04560000067949295,
          0.046000000685453415,
          0.04640000069141388,
          0.04680000069737435,
          0.047200000703334806,
          0.04760000070929527,
          0.04800000071525574,
          0.0484000007212162,
          0.04880000072717667,
          0.04920000073313713,
          0.049600000739097594,
          0.05000000074505806,
          0.050400000751018526,
          0.05080000075697899,
          0.05120000076293945,
          0.051600000768899916,
          0.05200000077486038,
          0.05240000078082085,
          0.05280000078678131,
          0.05320000079274177,
          0.05360000079870224,
          0.054000000804662704,
          0.05440000081062317,
          0.054800000816583636,
          0.0552000008225441,
          0.05560000082850456,
          0.056000000834465026,
          0.05640000084042549,
          0.05680000084638596,
          0.05720000085234642,
          0.05760000085830688,
          0.05800000086426735,
          0.058400000870227814,
          0.05880000087618828,
          0.059200000882148746,
          0.059600000888109204,
          0.06000000089406967,
          0.060400000900030136,
          0.0608000009059906,
          0.06120000091195107,
          0.06160000091791153,
          0.06200000092387199,
          0.06240000092983246,
          0.06280000093579292,
          0.06320000094175339,
          0.06360000094771386,
          0.06400000095367432,
          0.06440000095963479,
          0.06480000096559524,
          0.0652000009715557,
          0.06560000097751617,
          0.06600000098347664,
          0.0664000009894371,
          0.06680000099539757,
          0.06720000100135803,
          0.0676000010073185,
          0.06800000101327897,
          0.06840000101923943,
          0.06880000102519988,
          0.06920000103116035,
          0.06960000103712081,
          0.07000000104308128,
          0.07040000104904175,
          0.07080000105500221,
          0.07120000106096268,
          0.07160000106692314,
          0.07200000107288361,
          0.07240000107884408,
          0.07280000108480454,
          0.073200001090765,
          0.07360000109672546,
          0.07400000110268593,
          0.07440000110864639,
          0.07480000111460686,
          0.07520000112056732,
          0.07560000112652779,
          0.07600000113248825,
          0.07640000113844872,
          0.07680000114440919,
          0.07720000115036964,
          0.0776000011563301,
          0.07800000116229057,
          0.07840000116825104,
          0.0788000011742115,
          0.07920000118017197,
          0.07960000118613243,
          0.0800000011920929,
          0.08040000119805336,
          0.08080000120401383,
          0.0812000012099743,
          0.08160000121593475,
          0.08200000122189521,
          0.08240000122785568,
          0.08280000123381615,
          0.08320000123977661,
          0.08360000124573708,
          0.08400000125169754,
          0.08440000125765801,
          0.08480000126361847,
          0.08520000126957894,
          0.08560000127553939,
          0.08600000128149986,
          0.08640000128746032,
          0.08680000129342079,
          0.08720000129938126,
          0.08760000130534172,
          0.08800000131130219,
          0.08840000131726265,
          0.08880000132322312,
          0.08920000132918358,
          0.08960000133514404,
          0.0900000013411045,
          0.09040000134706497,
          0.09080000135302543,
          0.0912000013589859,
          0.09160000136494637,
          0.09200000137090683,
          0.0924000013768673,
          0.09280000138282776,
          0.09320000138878823,
          0.0936000013947487,
          0.09400000140070915,
          0.09440000140666961,
          0.09480000141263008,
          0.09520000141859054,
          0.09560000142455101,
          0.09600000143051148,
          0.09640000143647194,
          0.0968000014424324,
          0.09720000144839287,
          0.09760000145435334,
          0.09800000146031379,
          0.09840000146627426,
          0.09880000147223472,
          0.09920000147819519,
          0.09960000148415565,
          0.10000000149011612,
          0.10040000149607659,
          0.10080000150203705,
          0.10120000150799752,
          0.10160000151395798,
          0.10200000151991845,
          0.1024000015258789,
          0.10280000153183937,
          0.10320000153779983,
          0.1036000015437603,
          0.10400000154972076,
          0.10440000155568123,
          0.1048000015616417,
          0.10520000156760216,
          0.10560000157356263,
          0.10600000157952309,
          0.10640000158548354,
          0.10680000159144401,
          0.10720000159740448,
          0.10760000160336494,
          0.10800000160932541,
          0.10840000161528587,
          0.10880000162124634,
          0.1092000016272068,
          0.10960000163316727,
          0.11000000163912774,
          0.1104000016450882,
          0.11080000165104865,
          0.11120000165700912,
          0.11160000166296959,
          0.11200000166893005,
          0.11240000167489052,
          0.11280000168085098,
          0.11320000168681145,
          0.11360000169277192,
          0.11400000169873238,
          0.11440000170469285,
          0.1148000017106533,
          0.11520000171661376,
          0.11560000172257423,
          0.1160000017285347,
          0.11640000173449516,
          0.11680000174045563,
          0.1172000017464161,
          0.11760000175237656,
          0.11800000175833703,
          0.11840000176429749,
          0.11880000177025794,
          0.11920000177621841,
          0.11960000178217887,
          0.12000000178813934,
          0.1204000017940998,
          0.12080000180006027,
          0.12120000180602074,
          0.1216000018119812,
          0.12200000181794167,
          0.12240000182390214,
          0.1228000018298626,
          0.12320000183582305,
          0.12360000184178352,
          0.12400000184774398,
          0.12440000185370445,
          0.12480000185966492,
          0.12520000186562538,
          0.12560000187158585,
          0.1260000018775463,
          0.12640000188350678,
          0.12680000188946725,
          0.1272000018954277,
          0.12760000190138818,
          0.12800000190734864,
          0.1284000019133091,
          0.12880000191926957,
          0.12920000192523,
          0.12960000193119048,
          0.13000000193715094,
          0.1304000019431114,
          0.13080000194907188,
          0.13120000195503234,
          0.1316000019609928,
          0.13200000196695327,
          0.13240000197291374,
          0.1328000019788742,
          0.13320000198483467,
          0.13360000199079514,
          0.1340000019967556,
          0.13440000200271607,
          0.13480000200867653,
          0.135200002014637,
          0.13560000202059747,
          0.13600000202655793,
          0.1364000020325184,
          0.13680000203847886,
          0.13720000204443933,
          0.13760000205039977,
          0.13800000205636023,
          0.1384000020623207,
          0.13880000206828116,
          0.13920000207424163,
          0.1396000020802021,
          0.14000000208616256,
          0.14040000209212303,
          0.1408000020980835,
          0.14120000210404396,
          0.14160000211000442,
          0.1420000021159649,
          0.14240000212192536,
          0.14280000212788582,
          0.1432000021338463,
          0.14360000213980675,
          0.14400000214576722,
          0.14440000215172769,
          0.14480000215768815,
          0.14520000216364862,
          0.14560000216960908,
          0.14600000217556952,
          0.14640000218153,
          0.14680000218749045,
          0.14720000219345092,
          0.14760000219941138,
          0.14800000220537185,
          0.14840000221133232,
          0.14880000221729278,
          0.14920000222325325,
          0.1496000022292137,
          0.15000000223517418,
          0.15040000224113464,
          0.1508000022470951,
          0.15120000225305558,
          0.15160000225901604,
          0.1520000022649765,
          0.15240000227093697,
          0.15280000227689744,
          0.1532000022828579,
          0.15360000228881837,
          0.15400000229477884,
          0.15440000230073928,
          0.15480000230669974,
          0.1552000023126602,
          0.15560000231862067,
          0.15600000232458114,
          0.1564000023305416,
          0.15680000233650207,
          0.15720000234246254,
          0.157600002348423,
          0.15800000235438347,
          0.15840000236034393,
          0.1588000023663044,
          0.15920000237226486,
          0.15960000237822533,
          0.1600000023841858,
          0.16040000239014626,
          0.16080000239610673,
          0.1612000024020672,
          0.16160000240802766,
          0.16200000241398813,
          0.1624000024199486,
          0.16280000242590903,
          0.1632000024318695,
          0.16360000243782996,
          0.16400000244379043,
          0.1644000024497509,
          0.16480000245571136,
          0.16520000246167182,
          0.1656000024676323,
          0.16600000247359276,
          0.16640000247955322,
          0.1668000024855137,
          0.16720000249147415,
          0.16760000249743462,
          0.16800000250339509,
          0.16840000250935555,
          0.16880000251531602,
          0.16920000252127648,
          0.16960000252723695,
          0.17000000253319741,
          0.17040000253915788,
          0.17080000254511835,
          0.17120000255107878,
          0.17160000255703925,
          0.17200000256299972,
          0.17240000256896018,
          0.17280000257492065,
          0.1732000025808811,
          0.17360000258684158,
          0.17400000259280204,
          0.1744000025987625,
          0.17480000260472298,
          0.17520000261068344,
          0.1756000026166439,
          0.17600000262260437,
          0.17640000262856484,
          0.1768000026345253,
          0.17720000264048577,
          0.17760000264644624,
          0.1780000026524067,
          0.17840000265836717,
          0.17880000266432763,
          0.17920000267028807,
          0.17960000267624854,
          0.180000002682209,
          0.18040000268816947,
          0.18080000269412994,
          0.1812000027000904,
          0.18160000270605087,
          0.18200000271201133,
          0.1824000027179718,
          0.18280000272393226,
          0.18320000272989273,
          0.1836000027358532,
          0.18400000274181366,
          0.18440000274777413,
          0.1848000027537346,
          0.18520000275969506,
          0.18560000276565553,
          0.186000002771616,
          0.18640000277757646,
          0.18680000278353692,
          0.1872000027894974,
          0.18760000279545783,
          0.1880000028014183,
          0.18840000280737876,
          0.18880000281333922,
          0.1892000028192997,
          0.18960000282526016,
          0.19000000283122062,
          0.1904000028371811,
          0.19080000284314155,
          0.19120000284910202,
          0.19160000285506248,
          0.19200000286102295,
          0.19240000286698342,
          0.19280000287294388,
          0.19320000287890435,
          0.1936000028848648,
          0.19400000289082528,
          0.19440000289678575,
          0.1948000029027462,
          0.19520000290870668,
          0.19560000291466714,
          0.19600000292062758,
          0.19640000292658805,
          0.1968000029325485,
          0.19720000293850898,
          0.19760000294446944,
          0.1980000029504299,
          0.19840000295639038,
          0.19880000296235084,
          0.1992000029683113,
          0.19960000297427177
         ],
         "xaxis": "x",
         "y": [
          6.951142970839768,
          6.951488388317667,
          6.950741872136639,
          6.948905148551742,
          6.94598050919922,
          6.941970810174405,
          6.936879470660673,
          6.930710471110951,
          6.923468350983288,
          6.915158206033226,
          6.905785685165251,
          6.8953569868468465,
          6.883878855088973,
          6.871358574996812,
          6.857803967895704,
          6.843223386037419,
          6.82762570689203,
          6.811020327031736,
          6.793417155612818,
          6.774826607462623,
          6.755259595778893,
          6.734727524449143,
          6.713242279997913,
          6.690816223170562,
          6.667462180162315,
          6.643193433501577,
          6.6180237125973,
          6.591967183959824,
          6.56503844110562,
          6.537252494156301,
          6.508624759142446,
          6.47917104702335,
          6.448907552434011,
          6.417850842170544,
          6.386017843425984,
          6.353425831788224,
          6.320092419012237,
          6.286035540578793,
          6.251273443052122,
          6.215824671249055,
          6.179708055232417,
          6.142942697141211,
          6.1055479578708995,
          6.067543443616269,
          6.028948992290195,
          5.989784659831374,
          5.9500707064137766,
          5.909827582571406,
          5.8690759152509795,
          5.8278364938058544,
          5.786130255944156,
          5.743978273644037,
          5.701401739048964,
          5.658421950355873,
          5.615060297708792,
          5.571338249110676,
          5.527277336365766,
          5.482899141064813,
          5.4382252806253755,
          5.39327739439911,
          5.348077129857868,
          5.302646128870175,
          5.257006014079562,
          5.211178375395785,
          5.16518475660999,
          5.119046642144458,
          5.072785443947404,
          5.02642248854294,
          4.979979004246212,
          4.9334761085533065,
          4.88693479571517,
          4.84037592450477,
          4.7938202061860515,
          4.747288192693298,
          4.700800265028838,
          4.654376621887048,
          4.608037268512023,
          4.561802005796109,
          4.515690419626055,
          4.469721870483294,
          4.423915483304486,
          4.378290137608043,
          4.33286445789215,
          4.287656804309332,
          4.242685263622346,
          4.1979676404457305,
          4.153521448777153,
          4.10936390382222,
          4.065511914116084,
          4.021982073944917,
          3.978790656069901,
          3.935953604756082,
          3.8934865291080727,
          3.851404696714274,
          3.8097230276010583,
          3.76845608849773,
          3.7276180874131515,
          3.687222868524356,
          3.647283907377153,
          3.6078143063986388,
          3.5688267907209315,
          3.5303337043154217,
          3.4923470064364186,
          3.454878268372724,
          3.417938670505632,
          3.3815389996712826,
          3.3456896468253046,
          3.3104006050072736,
          3.275681467602317,
          3.2415414268969998,
          3.207989272926351,
          3.1750333926086864,
          3.1426817691646622,
          3.110941981816869,
          3.079821205765964,
          3.049326212439217,
          3.0194633700072497,
          2.9902386441644038,
          2.9616575991681815,
          2.9337253991329493,
          2.906446809573027,
          2.8798261991901044,
          2.8538675418998127,
          2.828574419092189,
          2.8039500221206266,
          2.779997155013836,
          2.7567182374052783,
          2.7341153076743425,
          2.7121900262936167,
          2.690943679376413,
          2.6703771824186866,
          2.6504910842295133,
          2.6312855710440965,
          2.6127604708133876,
          2.5949152576642818,
          2.5777490565243495,
          2.561260647905127,
          2.5454484728377884,
          2.5303106379553015,
          2.515844920714864,
          2.5020487747547,
          2.4889193353791135,
          2.4764534251658565,
          2.4646475596897774,
          2.45349795335686,
          2.4430005253426987,
          2.4331509056295917,
          2.423944441136389,
          2.415376201935357,
          2.407440987550318,
          2.400133333330447,
          2.3934475168940734,
          2.3873775646370228,
          2.381917258299981,
          2.3770601415895136,
          2.372799526847444,
          2.369128501763307,
          2.3660399361247353,
          2.3635264886007477,
          2.3615806135528374,
          2.3601945678690677,
          2.3593604178162546,
          2.359070045905581,
          2.359315157766924,
          2.360087289027405,
          2.3613778121896534,
          2.3631779435054545,
          2.3654787498404803,
          2.3682711555259117,
          2.3715459491929316,
          2.3752937905860056,
          2.379505217351151,
          2.3841706517953156,
          2.389280407613231,
          2.394824696578086,
          2.400793635192542,
          2.4071772512966643,
          2.4139654906294625,
          2.4211482233407846,
          2.4287152504504905,
          2.436656310251825,
          2.4449610846560734,
          2.453619205475655,
          2.462620260642884,
          2.4719538003617503,
          2.4816093431901516,
          2.4915763820500945,
          2.5018443901634693,
          2.5124028269110896,
          2.5232411436128186,
          2.5343487892266277,
          2.5457152159645413,
          2.5573298848235564,
          2.5691822710296237,
          2.581261869392934,
          2.5935581995728065,
          2.6060608112505395,
          2.6187592892087412,
          2.631643258315605,
          2.644702388412834,
          2.657926399105858,
          2.6713050644551584,
          2.68482821756755,
          2.6984857550863466,
          2.712267641579436,
          2.726163913824342,
          2.740164684989423,
          2.7542601487104696,
          2.7684405830619774,
          2.782696354422474,
          2.7970179212333757,
          2.811395837650869,
          2.825820757090378,
          2.840283435663356,
          2.854774735506027,
          2.8692856279999415,
          2.883807196884155,
          2.8983306412589918,
          2.9128472784813284,
          2.927348546951523,
          2.9418260087920096,
          2.9562713524178474,
          2.970676394999307,
          2.9850330848169837,
          2.9993335035096087,
          3.0135698682151117,
          3.0277345336053276,
          3.0418199938149106,
          3.05581888426504,
          3.069723983382552,
          3.0835282142151965,
          3.0972246459437627,
          3.1108064952918815,
          3.1242671278343446,
          3.1376000592048605,
          3.150798956204162,
          3.1638576378095014,
          3.17677007608654,
          3.1895303970047513,
          3.2021328811574374,
          3.214571964387568,
          3.2268422383206086,
          3.2389384508056445,
          3.2508555062660442,
          3.2625884659610307,
          3.274132548159495,
          3.285483128227474,
          3.2966357386306773,
          3.3075860688536016,
          3.31832996523664,
          3.328863430732739,
          3.3391826245851726,
          3.349283861927935,
          3.3591636133104004,
          3.3688185041478316,
          3.3782453140993605,
          3.3874409763751014,
          3.3964025769740567,
          3.405127353854467,
          3.4136126960383306,
          3.4218561426517313,
          3.4298553819027586,
          3.4376082499986502,
          3.4451127300039097,
          3.4523669506411507,
          3.4593691850362895,
          3.466117849409925,
          3.4726115017165444,
          3.4788488402332662,
          3.48482870209986,
          3.490550061811751,
          3.4960120296676327,
          3.5012138501734387,
          3.506154900404309,
          3.510834688326187,
          3.5152528510787286,
          3.5194091532210807,
          3.5233034849422062,
          3.5269358602372782,
          3.530306415051718,
          3.5334154053944293,
          3.5362632054217538,
          3.5388503054936007,
          3.541177310203241,
          3.5432449363822167,
          3.545054011081746,
          3.5466054695320333,
          3.5479003530808244,
          3.5489398071125433,
          3.549725078949271,
          3.5502575157348852,
          3.550538562303541,
          3.5505697590337175,
          3.5503527396889747,
          3.549889229246594,
          3.549181041715165,
          3.5482300779421965,
          3.547038323412812,
          3.545607846040504,
          3.543940793950905,
          3.542039393259579,
          3.53990594584467,
          3.537542827115304,
          3.5349524837766078,
          3.532137431592148,
          3.5291002531445295,
          3.5258435955950045,
          3.522370168442701,
          3.518682741284267,
          3.51478414157453,
          3.510677252388865,
          3.5063650101878623,
          3.5018504025849047,
          3.497136466117208,
          3.4922262840209184,
          3.4871229840107385,
          3.48182973606466,
          3.4763497502142275,
          3.4706862743408755,
          3.4648425919787726,
          3.4588220201245874,
          3.4526279070546977,
          3.4462636301501814,
          3.4397325937300613,
          3.4330382268931814,
          3.426183981369141,
          3.4191733293786397,
          3.41200976150371,
          3.4046967845680998,
          3.3972379195283398,
          3.3896366993757545,
          3.381896667049896,
          3.3740213733637705,
          3.3660143749412232,
          3.357879232166949,
          3.3496195071494803,
          3.3412387616976127,
          3.3327405553106986,
          3.3241284431831994,
          3.3154059742240296,
          3.3065766890910786,
          3.2976441182414566,
          3.2886117799978885,
          3.2794831786318217,
          3.2702618024637617,
          3.260951121981331,
          3.2515545879756886,
          3.242075629696792,
          3.232517653028176,
          3.222884038681835,
          3.213178140413805,
          3.203403283261144,
          3.1935627618009628,
          3.1836598384321793,
          3.1736977416807295,
          3.163679664528938,
          3.153608762769803,
          3.143488153386961,
          3.1333209129611026,
          3.1231100761036434,
          3.1128586339184516,
          3.1025695324924936,
          3.0922456714161815,
          3.0818899023343422,
          3.0715050275286653,
          3.0610937985324465,
          3.0506589147786443,
          3.040203022282026,
          3.0297287123563974,
          3.0192385203678027,
          3.008734924524617,
          2.9982203447054725,
          2.987697141325917,
          2.9771676142447916,
          2.9666340017111748,
          2.956098479352911,
          2.945563159207559,
          2.9350300887967222,
          2.9245012502446803,
          2.913978559442161,
          2.9034638652561764,
          2.8929589487868017,
          2.882465522671699,
          2.8719852304392797,
          2.861519645911261,
          2.8510702726554418,
          2.84063854348947,
          2.8302258200362957,
          2.819833392332071,
          2.8094624784871254,
          2.799114224400728,
          2.788789703530146,
          2.7784899167146944,
          2.768215792055202,
          2.757968184849463,
          2.747747877584071,
          2.737555579983087,
          2.7273919291138706,
          2.7172574895503736,
          2.7071527535942193,
          2.6970781415536913,
          2.68703400208085,
          2.6770206125668676,
          2.6670381795956106,
          2.6570868394554705,
          2.6471666587093727,
          2.6372776348228384,
          2.627419696849896,
          2.617592706176629,
          2.607796457321977,
          2.5980306787955043,
          2.5882950340116126,
          2.5785891222597512,
          2.568912479730038,
          2.5592645805936463,
          2.5496448381372807,
          2.5400526059509576,
          2.5304871791682837,
          2.520947795758323,
          2.5114336378681017,
          2.5019438332147192,
          2.4924774565260104,
          2.483033531028544,
          2.473611029981843,
          2.464208878257469,
          2.4548259539616475,
          2.445461090100116,
          2.4361130762836543,
          2.4267806604728244,
          2.417462550760377,
          2.4081574171896682,
          2.398863893607459,
          2.3895805795493263,
          2.3803060421559814,
          2.371038818118617,
          2.361777415651472,
          2.3525203164896773,
          2.3432659779104603,
          2.334012834775728,
          2.324759301593997,
          2.3155037745996396,
          2.306244633847346,
          2.296980245319726,
          2.2877089630458673,
          2.27842913122877,
          2.269139086379395,
          2.2598371594552003,
          2.25052167800093,
          2.241190968289452,
          2.2318433574604053,
          2.222477175654428,
          2.213090758140756,
          2.203682447435926,
          2.194250595411377,
          2.1847935653877326,
          2.1753097342135437,
          2.1657974943262746,
          2.1562552557933863,
          2.146681448331364,
          2.137074523300449,
          2.1274329556731213,
          2.11775524597409,
          2.1080399221898123,
          2.098285541645538,
          2.088490692847807,
          2.078653997290553,
          2.068774111222811,
          2.0588497273762587,
          2.0488795766506995,
          2.0388624297557647,
          2.0287970988071233,
          2.018682438875529,
          2.0085173494870796,
          1.9983007760732097,
          1.9880317113688788,
          1.97770919675754,
          1.9673323235615827,
          1.9569002342768986,
          1.9464121237504064,
          1.935867240299349,
          1.9252648867713107,
          1.9146044215439233,
          1.9038852594633793,
          1.8931068727208216,
          1.8822687916659195,
          1.8713706055568546,
          1.8604119632461267,
          1.849392573801651,
          1.8383122070626334,
          1.827170694129888,
          1.815967927790262,
          1.8047038628749312,
          1.793378516551476,
          1.7819919685495929,
          1.7705443613205196,
          1.759035900130245,
          1.7474668530866744,
          1.735837551100991,
          1.7241483877835913,
          1.7123998192749381
         ],
         "yaxis": "y"
        },
        {
         "legendgroup": "neg_indices",
         "marker": {
          "color": "#A56CC1",
          "symbol": "line-ns-open"
         },
         "mode": "markers",
         "name": "neg_indices",
         "showlegend": false,
         "type": "scatter",
         "x": [
          0.2222222238779068,
          0,
          0.3333333432674408,
          0.3333333432674408,
          0.375,
          0.7142857313156128,
          0.2222222238779068,
          0.4000000059604645,
          0.4166666567325592,
          0.800000011920929,
          0.4545454680919647,
          0.27272728085517883,
          0.4545454680919647,
          0.3333333432674408,
          0.4000000059604645,
          0,
          0.3333333432674408,
          0.375,
          0.4166666567325592,
          0.699999988079071,
          0.27272728085517883,
          0,
          0,
          0,
          0.800000011920929,
          0.7142857313156128,
          0.7142857313156128,
          0.7142857313156128,
          0.4545454680919647,
          0.7142857313156128,
          0.625,
          0,
          0.3333333432674408,
          0.27272728085517883,
          0.7142857313156128,
          0.5714285969734192,
          0.6000000238418579,
          0.20000000298023224,
          0.4285714328289032,
          0.2857142984867096,
          0.20000000298023224,
          0.125,
          0.5714285969734192,
          0.800000011920929,
          1,
          0.800000011920929,
          0.5714285969734192,
          0.4545454680919647,
          0.625,
          0.4285714328289032,
          0.30000001192092896,
          0.699999988079071,
          1,
          0.5714285969734192,
          0.3333333432674408,
          0.9090909361839294,
          0.3333333432674408,
          0.2857142984867096,
          0.3333333432674408,
          0.10000000149011612,
          0.27272728085517883,
          0.6000000238418579,
          0.125,
          0.30000001192092896,
          0.9090909361839294,
          0.10000000149011612
         ],
         "xaxis": "x",
         "y": [
          "neg_indices",
          "neg_indices",
          "neg_indices",
          "neg_indices",
          "neg_indices",
          "neg_indices",
          "neg_indices",
          "neg_indices",
          "neg_indices",
          "neg_indices",
          "neg_indices",
          "neg_indices",
          "neg_indices",
          "neg_indices",
          "neg_indices",
          "neg_indices",
          "neg_indices",
          "neg_indices",
          "neg_indices",
          "neg_indices",
          "neg_indices",
          "neg_indices",
          "neg_indices",
          "neg_indices",
          "neg_indices",
          "neg_indices",
          "neg_indices",
          "neg_indices",
          "neg_indices",
          "neg_indices",
          "neg_indices",
          "neg_indices",
          "neg_indices",
          "neg_indices",
          "neg_indices",
          "neg_indices",
          "neg_indices",
          "neg_indices",
          "neg_indices",
          "neg_indices",
          "neg_indices",
          "neg_indices",
          "neg_indices",
          "neg_indices",
          "neg_indices",
          "neg_indices",
          "neg_indices",
          "neg_indices",
          "neg_indices",
          "neg_indices",
          "neg_indices",
          "neg_indices",
          "neg_indices",
          "neg_indices",
          "neg_indices",
          "neg_indices",
          "neg_indices",
          "neg_indices",
          "neg_indices",
          "neg_indices",
          "neg_indices",
          "neg_indices",
          "neg_indices",
          "neg_indices",
          "neg_indices",
          "neg_indices"
         ],
         "yaxis": "y2"
        },
        {
         "legendgroup": "pos_indices",
         "marker": {
          "color": "#B8F7D4",
          "symbol": "line-ns-open"
         },
         "mode": "markers",
         "name": "pos_indices",
         "showlegend": false,
         "type": "scatter",
         "x": [
          0,
          0,
          0,
          0,
          0,
          0,
          0,
          0,
          0,
          0.20000000298023224,
          0.1818181872367859,
          0.09090909361839294,
          0.09090909361839294,
          0,
          0,
          0,
          0,
          0,
          0,
          0.10000000149011612,
          0.09090909361839294,
          0,
          0,
          0,
          0.20000000298023224,
          0.1428571492433548,
          0.1428571492433548,
          0,
          0.1818181872367859,
          0.1428571492433548,
          0.125,
          0,
          0,
          0.09090909361839294,
          0.1428571492433548,
          0,
          0,
          0,
          0,
          0,
          0,
          0,
          0,
          0.20000000298023224,
          0.125,
          0.20000000298023224,
          0.1428571492433548,
          0.09090909361839294,
          0.125,
          0,
          0,
          0.10000000149011612,
          0.125,
          0.1428571492433548,
          0.1111111119389534,
          0.1818181872367859,
          0,
          0,
          0.1111111119389534,
          0.10000000149011612,
          0.09090909361839294,
          0,
          0,
          0,
          0.1818181872367859,
          0.10000000149011612
         ],
         "xaxis": "x",
         "y": [
          "pos_indices",
          "pos_indices",
          "pos_indices",
          "pos_indices",
          "pos_indices",
          "pos_indices",
          "pos_indices",
          "pos_indices",
          "pos_indices",
          "pos_indices",
          "pos_indices",
          "pos_indices",
          "pos_indices",
          "pos_indices",
          "pos_indices",
          "pos_indices",
          "pos_indices",
          "pos_indices",
          "pos_indices",
          "pos_indices",
          "pos_indices",
          "pos_indices",
          "pos_indices",
          "pos_indices",
          "pos_indices",
          "pos_indices",
          "pos_indices",
          "pos_indices",
          "pos_indices",
          "pos_indices",
          "pos_indices",
          "pos_indices",
          "pos_indices",
          "pos_indices",
          "pos_indices",
          "pos_indices",
          "pos_indices",
          "pos_indices",
          "pos_indices",
          "pos_indices",
          "pos_indices",
          "pos_indices",
          "pos_indices",
          "pos_indices",
          "pos_indices",
          "pos_indices",
          "pos_indices",
          "pos_indices",
          "pos_indices",
          "pos_indices",
          "pos_indices",
          "pos_indices",
          "pos_indices",
          "pos_indices",
          "pos_indices",
          "pos_indices",
          "pos_indices",
          "pos_indices",
          "pos_indices",
          "pos_indices",
          "pos_indices",
          "pos_indices",
          "pos_indices",
          "pos_indices",
          "pos_indices",
          "pos_indices"
         ],
         "yaxis": "y2"
        }
       ],
       "layout": {
        "barmode": "overlay",
        "hovermode": "closest",
        "legend": {
         "traceorder": "reversed"
        },
        "template": {
         "data": {
          "bar": [
           {
            "error_x": {
             "color": "#2a3f5f"
            },
            "error_y": {
             "color": "#2a3f5f"
            },
            "marker": {
             "line": {
              "color": "#E5ECF6",
              "width": 0.5
             },
             "pattern": {
              "fillmode": "overlay",
              "size": 10,
              "solidity": 0.2
             }
            },
            "type": "bar"
           }
          ],
          "barpolar": [
           {
            "marker": {
             "line": {
              "color": "#E5ECF6",
              "width": 0.5
             },
             "pattern": {
              "fillmode": "overlay",
              "size": 10,
              "solidity": 0.2
             }
            },
            "type": "barpolar"
           }
          ],
          "carpet": [
           {
            "aaxis": {
             "endlinecolor": "#2a3f5f",
             "gridcolor": "white",
             "linecolor": "white",
             "minorgridcolor": "white",
             "startlinecolor": "#2a3f5f"
            },
            "baxis": {
             "endlinecolor": "#2a3f5f",
             "gridcolor": "white",
             "linecolor": "white",
             "minorgridcolor": "white",
             "startlinecolor": "#2a3f5f"
            },
            "type": "carpet"
           }
          ],
          "choropleth": [
           {
            "colorbar": {
             "outlinewidth": 0,
             "ticks": ""
            },
            "type": "choropleth"
           }
          ],
          "contour": [
           {
            "colorbar": {
             "outlinewidth": 0,
             "ticks": ""
            },
            "colorscale": [
             [
              0,
              "#0d0887"
             ],
             [
              0.1111111111111111,
              "#46039f"
             ],
             [
              0.2222222222222222,
              "#7201a8"
             ],
             [
              0.3333333333333333,
              "#9c179e"
             ],
             [
              0.4444444444444444,
              "#bd3786"
             ],
             [
              0.5555555555555556,
              "#d8576b"
             ],
             [
              0.6666666666666666,
              "#ed7953"
             ],
             [
              0.7777777777777778,
              "#fb9f3a"
             ],
             [
              0.8888888888888888,
              "#fdca26"
             ],
             [
              1,
              "#f0f921"
             ]
            ],
            "type": "contour"
           }
          ],
          "contourcarpet": [
           {
            "colorbar": {
             "outlinewidth": 0,
             "ticks": ""
            },
            "type": "contourcarpet"
           }
          ],
          "heatmap": [
           {
            "colorbar": {
             "outlinewidth": 0,
             "ticks": ""
            },
            "colorscale": [
             [
              0,
              "#0d0887"
             ],
             [
              0.1111111111111111,
              "#46039f"
             ],
             [
              0.2222222222222222,
              "#7201a8"
             ],
             [
              0.3333333333333333,
              "#9c179e"
             ],
             [
              0.4444444444444444,
              "#bd3786"
             ],
             [
              0.5555555555555556,
              "#d8576b"
             ],
             [
              0.6666666666666666,
              "#ed7953"
             ],
             [
              0.7777777777777778,
              "#fb9f3a"
             ],
             [
              0.8888888888888888,
              "#fdca26"
             ],
             [
              1,
              "#f0f921"
             ]
            ],
            "type": "heatmap"
           }
          ],
          "heatmapgl": [
           {
            "colorbar": {
             "outlinewidth": 0,
             "ticks": ""
            },
            "colorscale": [
             [
              0,
              "#0d0887"
             ],
             [
              0.1111111111111111,
              "#46039f"
             ],
             [
              0.2222222222222222,
              "#7201a8"
             ],
             [
              0.3333333333333333,
              "#9c179e"
             ],
             [
              0.4444444444444444,
              "#bd3786"
             ],
             [
              0.5555555555555556,
              "#d8576b"
             ],
             [
              0.6666666666666666,
              "#ed7953"
             ],
             [
              0.7777777777777778,
              "#fb9f3a"
             ],
             [
              0.8888888888888888,
              "#fdca26"
             ],
             [
              1,
              "#f0f921"
             ]
            ],
            "type": "heatmapgl"
           }
          ],
          "histogram": [
           {
            "marker": {
             "pattern": {
              "fillmode": "overlay",
              "size": 10,
              "solidity": 0.2
             }
            },
            "type": "histogram"
           }
          ],
          "histogram2d": [
           {
            "colorbar": {
             "outlinewidth": 0,
             "ticks": ""
            },
            "colorscale": [
             [
              0,
              "#0d0887"
             ],
             [
              0.1111111111111111,
              "#46039f"
             ],
             [
              0.2222222222222222,
              "#7201a8"
             ],
             [
              0.3333333333333333,
              "#9c179e"
             ],
             [
              0.4444444444444444,
              "#bd3786"
             ],
             [
              0.5555555555555556,
              "#d8576b"
             ],
             [
              0.6666666666666666,
              "#ed7953"
             ],
             [
              0.7777777777777778,
              "#fb9f3a"
             ],
             [
              0.8888888888888888,
              "#fdca26"
             ],
             [
              1,
              "#f0f921"
             ]
            ],
            "type": "histogram2d"
           }
          ],
          "histogram2dcontour": [
           {
            "colorbar": {
             "outlinewidth": 0,
             "ticks": ""
            },
            "colorscale": [
             [
              0,
              "#0d0887"
             ],
             [
              0.1111111111111111,
              "#46039f"
             ],
             [
              0.2222222222222222,
              "#7201a8"
             ],
             [
              0.3333333333333333,
              "#9c179e"
             ],
             [
              0.4444444444444444,
              "#bd3786"
             ],
             [
              0.5555555555555556,
              "#d8576b"
             ],
             [
              0.6666666666666666,
              "#ed7953"
             ],
             [
              0.7777777777777778,
              "#fb9f3a"
             ],
             [
              0.8888888888888888,
              "#fdca26"
             ],
             [
              1,
              "#f0f921"
             ]
            ],
            "type": "histogram2dcontour"
           }
          ],
          "mesh3d": [
           {
            "colorbar": {
             "outlinewidth": 0,
             "ticks": ""
            },
            "type": "mesh3d"
           }
          ],
          "parcoords": [
           {
            "line": {
             "colorbar": {
              "outlinewidth": 0,
              "ticks": ""
             }
            },
            "type": "parcoords"
           }
          ],
          "pie": [
           {
            "automargin": true,
            "type": "pie"
           }
          ],
          "scatter": [
           {
            "fillpattern": {
             "fillmode": "overlay",
             "size": 10,
             "solidity": 0.2
            },
            "type": "scatter"
           }
          ],
          "scatter3d": [
           {
            "line": {
             "colorbar": {
              "outlinewidth": 0,
              "ticks": ""
             }
            },
            "marker": {
             "colorbar": {
              "outlinewidth": 0,
              "ticks": ""
             }
            },
            "type": "scatter3d"
           }
          ],
          "scattercarpet": [
           {
            "marker": {
             "colorbar": {
              "outlinewidth": 0,
              "ticks": ""
             }
            },
            "type": "scattercarpet"
           }
          ],
          "scattergeo": [
           {
            "marker": {
             "colorbar": {
              "outlinewidth": 0,
              "ticks": ""
             }
            },
            "type": "scattergeo"
           }
          ],
          "scattergl": [
           {
            "marker": {
             "colorbar": {
              "outlinewidth": 0,
              "ticks": ""
             }
            },
            "type": "scattergl"
           }
          ],
          "scattermapbox": [
           {
            "marker": {
             "colorbar": {
              "outlinewidth": 0,
              "ticks": ""
             }
            },
            "type": "scattermapbox"
           }
          ],
          "scatterpolar": [
           {
            "marker": {
             "colorbar": {
              "outlinewidth": 0,
              "ticks": ""
             }
            },
            "type": "scatterpolar"
           }
          ],
          "scatterpolargl": [
           {
            "marker": {
             "colorbar": {
              "outlinewidth": 0,
              "ticks": ""
             }
            },
            "type": "scatterpolargl"
           }
          ],
          "scatterternary": [
           {
            "marker": {
             "colorbar": {
              "outlinewidth": 0,
              "ticks": ""
             }
            },
            "type": "scatterternary"
           }
          ],
          "surface": [
           {
            "colorbar": {
             "outlinewidth": 0,
             "ticks": ""
            },
            "colorscale": [
             [
              0,
              "#0d0887"
             ],
             [
              0.1111111111111111,
              "#46039f"
             ],
             [
              0.2222222222222222,
              "#7201a8"
             ],
             [
              0.3333333333333333,
              "#9c179e"
             ],
             [
              0.4444444444444444,
              "#bd3786"
             ],
             [
              0.5555555555555556,
              "#d8576b"
             ],
             [
              0.6666666666666666,
              "#ed7953"
             ],
             [
              0.7777777777777778,
              "#fb9f3a"
             ],
             [
              0.8888888888888888,
              "#fdca26"
             ],
             [
              1,
              "#f0f921"
             ]
            ],
            "type": "surface"
           }
          ],
          "table": [
           {
            "cells": {
             "fill": {
              "color": "#EBF0F8"
             },
             "line": {
              "color": "white"
             }
            },
            "header": {
             "fill": {
              "color": "#C8D4E3"
             },
             "line": {
              "color": "white"
             }
            },
            "type": "table"
           }
          ]
         },
         "layout": {
          "annotationdefaults": {
           "arrowcolor": "#2a3f5f",
           "arrowhead": 0,
           "arrowwidth": 1
          },
          "autotypenumbers": "strict",
          "coloraxis": {
           "colorbar": {
            "outlinewidth": 0,
            "ticks": ""
           }
          },
          "colorscale": {
           "diverging": [
            [
             0,
             "#8e0152"
            ],
            [
             0.1,
             "#c51b7d"
            ],
            [
             0.2,
             "#de77ae"
            ],
            [
             0.3,
             "#f1b6da"
            ],
            [
             0.4,
             "#fde0ef"
            ],
            [
             0.5,
             "#f7f7f7"
            ],
            [
             0.6,
             "#e6f5d0"
            ],
            [
             0.7,
             "#b8e186"
            ],
            [
             0.8,
             "#7fbc41"
            ],
            [
             0.9,
             "#4d9221"
            ],
            [
             1,
             "#276419"
            ]
           ],
           "sequential": [
            [
             0,
             "#0d0887"
            ],
            [
             0.1111111111111111,
             "#46039f"
            ],
            [
             0.2222222222222222,
             "#7201a8"
            ],
            [
             0.3333333333333333,
             "#9c179e"
            ],
            [
             0.4444444444444444,
             "#bd3786"
            ],
            [
             0.5555555555555556,
             "#d8576b"
            ],
            [
             0.6666666666666666,
             "#ed7953"
            ],
            [
             0.7777777777777778,
             "#fb9f3a"
            ],
            [
             0.8888888888888888,
             "#fdca26"
            ],
            [
             1,
             "#f0f921"
            ]
           ],
           "sequentialminus": [
            [
             0,
             "#0d0887"
            ],
            [
             0.1111111111111111,
             "#46039f"
            ],
            [
             0.2222222222222222,
             "#7201a8"
            ],
            [
             0.3333333333333333,
             "#9c179e"
            ],
            [
             0.4444444444444444,
             "#bd3786"
            ],
            [
             0.5555555555555556,
             "#d8576b"
            ],
            [
             0.6666666666666666,
             "#ed7953"
            ],
            [
             0.7777777777777778,
             "#fb9f3a"
            ],
            [
             0.8888888888888888,
             "#fdca26"
            ],
            [
             1,
             "#f0f921"
            ]
           ]
          },
          "colorway": [
           "#636efa",
           "#EF553B",
           "#00cc96",
           "#ab63fa",
           "#FFA15A",
           "#19d3f3",
           "#FF6692",
           "#B6E880",
           "#FF97FF",
           "#FECB52"
          ],
          "font": {
           "color": "#2a3f5f"
          },
          "geo": {
           "bgcolor": "white",
           "lakecolor": "white",
           "landcolor": "#E5ECF6",
           "showlakes": true,
           "showland": true,
           "subunitcolor": "white"
          },
          "hoverlabel": {
           "align": "left"
          },
          "hovermode": "closest",
          "mapbox": {
           "style": "light"
          },
          "paper_bgcolor": "white",
          "plot_bgcolor": "#E5ECF6",
          "polar": {
           "angularaxis": {
            "gridcolor": "white",
            "linecolor": "white",
            "ticks": ""
           },
           "bgcolor": "#E5ECF6",
           "radialaxis": {
            "gridcolor": "white",
            "linecolor": "white",
            "ticks": ""
           }
          },
          "scene": {
           "xaxis": {
            "backgroundcolor": "#E5ECF6",
            "gridcolor": "white",
            "gridwidth": 2,
            "linecolor": "white",
            "showbackground": true,
            "ticks": "",
            "zerolinecolor": "white"
           },
           "yaxis": {
            "backgroundcolor": "#E5ECF6",
            "gridcolor": "white",
            "gridwidth": 2,
            "linecolor": "white",
            "showbackground": true,
            "ticks": "",
            "zerolinecolor": "white"
           },
           "zaxis": {
            "backgroundcolor": "#E5ECF6",
            "gridcolor": "white",
            "gridwidth": 2,
            "linecolor": "white",
            "showbackground": true,
            "ticks": "",
            "zerolinecolor": "white"
           }
          },
          "shapedefaults": {
           "line": {
            "color": "#2a3f5f"
           }
          },
          "ternary": {
           "aaxis": {
            "gridcolor": "white",
            "linecolor": "white",
            "ticks": ""
           },
           "baxis": {
            "gridcolor": "white",
            "linecolor": "white",
            "ticks": ""
           },
           "bgcolor": "#E5ECF6",
           "caxis": {
            "gridcolor": "white",
            "linecolor": "white",
            "ticks": ""
           }
          },
          "title": {
           "x": 0.05
          },
          "xaxis": {
           "automargin": true,
           "gridcolor": "white",
           "linecolor": "white",
           "ticks": "",
           "title": {
            "standoff": 15
           },
           "zerolinecolor": "white",
           "zerolinewidth": 2
          },
          "yaxis": {
           "automargin": true,
           "gridcolor": "white",
           "linecolor": "white",
           "ticks": "",
           "title": {
            "standoff": 15
           },
           "zerolinecolor": "white",
           "zerolinewidth": 2
          }
         }
        },
        "title": {
         "text": "Disitribition of Neg vs Pos indices"
        },
        "xaxis": {
         "anchor": "y2",
         "domain": [
          0,
          1
         ],
         "zeroline": false
        },
        "yaxis": {
         "anchor": "free",
         "domain": [
          0.35,
          1
         ],
         "position": 0
        },
        "yaxis2": {
         "anchor": "x",
         "domain": [
          0,
          0.25
         ],
         "dtick": 1,
         "showticklabels": false
        }
       }
      }
     },
     "metadata": {},
     "output_type": "display_data"
    }
   ],
   "source": [
    "import plotly.figure_factory as ff\n",
    "neg_indices = neg_index(data)\n",
    "pos_indices = pos_index(data)\n",
    "\n",
    "hist_data = [neg_indices, pos_indices]\n",
    "group_labels=['neg_indices', 'pos_indices']\n",
    "colors = ['#A56CC1', '#B8F7D4']\n",
    "fig = ff.create_distplot(hist_data, group_labels, colors=colors, bin_size=.2,\n",
    "                         show_curve=True)\n",
    "fig.update_layout(title_text='Disitribition of Neg vs Pos indices')\n",
    "fig.show()"
   ]
  },
  {
   "cell_type": "code",
   "execution_count": 8,
   "metadata": {},
   "outputs": [],
   "source": [
    "#let see the function we want to optimize\n",
    "def custom_objective(sigma_1, sigma_2):\n",
    "    return (sigma_1 - 0.5)**2 + sigma_2\n",
    "\n",
    "losses= []\n",
    "for i in range(data.edge_index.size(1)):\n",
    "    sigma_1 = torch.tensor(neg_indices[i], requires_grad=True)\n",
    "    sigma_2 = torch.tensor(pos_indices[i], requires_grad=True)\n",
    "    objective = custom_objective(sigma_1, sigma_2)\n",
    "    loss = torch.min(objective)\n",
    "    losses.append(loss.item())\n",
    "\n",
    "variational_matrix = torch.nn.Parameter(torch.rand((20, 20), dtype=torch.float), requires_grad=True)"
   ]
  },
  {
   "cell_type": "code",
   "execution_count": 9,
   "metadata": {},
   "outputs": [
    {
     "data": {
      "application/vnd.plotly.v1+json": {
       "config": {
        "plotlyServerURL": "https://plot.ly"
       },
       "data": [
        {
         "line": {
          "color": "red"
         },
         "type": "scatter",
         "x": [
          0.07716049998998642,
          0.25,
          0.02777777425944805,
          0.02777777425944805,
          0.015625,
          0.04591837525367737,
          0.07716049998998642,
          0.009999998845160007,
          0.006944445893168449,
          0.2900000214576721,
          0.18388430774211884,
          0.14256198704242706,
          0.0929752066731453,
          0.02777777425944805,
          0.009999998845160007,
          0.25,
          0.02777777425944805,
          0.015625,
          0.006944445893168449,
          0.14000000059604645,
          0.14256198704242706,
          0.25,
          0.25,
          0.25,
          0.2900000214576721,
          0.18877552449703217,
          0.18877552449703217,
          0.04591837525367737,
          0.18388430774211884,
          0.18877552449703217,
          0.140625,
          0.25,
          0.02777777425944805,
          0.14256198704242706,
          0.18877552449703217,
          0.005102044437080622,
          0.010000004433095455,
          0.09000000357627869,
          0.005102040246129036,
          0.045918360352516174,
          0.09000000357627869,
          0.140625,
          0.005102044437080622,
          0.2900000214576721,
          0.375,
          0.2900000214576721,
          0.14795918762683868,
          0.0929752066731453,
          0.140625,
          0.005102040246129036,
          0.03999999538064003,
          0.14000000059604645,
          0.375,
          0.14795918762683868,
          0.138888880610466,
          0.34917357563972473,
          0.02777777425944805,
          0.045918360352516174,
          0.138888880610466,
          0.2600000202655792,
          0.14256198704242706,
          0.010000004433095455,
          0.140625,
          0.03999999538064003,
          0.34917357563972473,
          0.2600000202655792
         ],
         "y": [
          [
           0.14161813259124756,
           0.08826380968093872,
           0.32867181301116943,
           0.8166900873184204,
           0.7903475165367126,
           0.10977369546890259,
           0.020738601684570312,
           0.8148105144500732,
           0.9054440259933472,
           0.29340559244155884,
           0.10448575019836426,
           0.9473145604133606,
           0.06219512224197388,
           0.9428110718727112,
           0.5853920578956604,
           0.2911662459373474,
           0.17372840642929077,
           0.8040910959243774,
           0.4081394076347351,
           0.7367267608642578
          ],
          [
           0.7882220149040222,
           0.712654709815979,
           0.7819457650184631,
           0.160599946975708,
           0.04135972261428833,
           0.6130690574645996,
           0.7369971871376038,
           0.36822932958602905,
           0.9688734412193298,
           0.8885899186134338,
           0.8207954168319702,
           0.5058074593544006,
           0.4844731092453003,
           0.5385544300079346,
           0.554084062576294,
           0.959743857383728,
           0.1352543830871582,
           0.6224955320358276,
           0.38464808464050293,
           0.6848879456520081
          ],
          [
           0.0530129075050354,
           0.6443721652030945,
           0.39583659172058105,
           0.5145127773284912,
           0.3278031349182129,
           0.09682989120483398,
           0.8486033082008362,
           0.2620481252670288,
           0.5688475966453552,
           0.47479182481765747,
           0.9235900044441223,
           0.698334276676178,
           0.5484143495559692,
           0.6009117960929871,
           0.27793604135513306,
           0.3616471290588379,
           0.5065383315086365,
           0.7472354769706726,
           0.3185961842536926,
           0.057795166969299316
          ],
          [
           0.5752670168876648,
           0.2793397903442383,
           0.7113903164863586,
           0.3674713373184204,
           0.6035296320915222,
           0.45034968852996826,
           0.11389923095703125,
           0.2745722532272339,
           0.5630189180374146,
           0.028545022010803223,
           0.3744654655456543,
           0.9020425081253052,
           0.7635827660560608,
           0.5875276327133179,
           0.4296976923942566,
           0.33208709955215454,
           0.5145531892776489,
           0.5421895980834961,
           0.02885305881500244,
           0.9376208782196045
          ],
          [
           0.08874690532684326,
           0.5144290328025818,
           0.37832069396972656,
           0.10420584678649902,
           0.5614162683486938,
           0.7380211353302002,
           0.6584397554397583,
           0.6590484380722046,
           0.10199713706970215,
           0.8774612545967102,
           0.723132848739624,
           0.5186987519264221,
           0.7461261749267578,
           0.2860322594642639,
           0.41502439975738525,
           0.9792079329490662,
           0.7809353470802307,
           0.4344390630722046,
           0.7911682724952698,
           0.1291140913963318
          ],
          [
           0.9206115007400513,
           0.6848703622817993,
           0.7238496541976929,
           0.32336699962615967,
           0.3722987174987793,
           0.4059966802597046,
           0.5788506269454956,
           0.985546886920929,
           0.9031412601470947,
           0.54386305809021,
           0.026063144207000732,
           0.7004164457321167,
           0.8885077238082886,
           0.8665822744369507,
           0.7045996189117432,
           0.4667261242866516,
           0.6420844197273254,
           0.8076268434524536,
           0.8742483258247375,
           0.5646703839302063
          ],
          [
           0.9099607467651367,
           0.4130626320838928,
           0.7752912044525146,
           0.250033974647522,
           0.38185977935791016,
           0.27842938899993896,
           0.34018421173095703,
           0.26982271671295166,
           0.18819928169250488,
           0.1279284954071045,
           0.4268593192100525,
           0.764011561870575,
           0.7829824090003967,
           0.461819589138031,
           0.8748472929000854,
           0.07117998600006104,
           0.031494975090026855,
           0.4889283776283264,
           0.5668633580207825,
           0.4157114624977112
          ],
          [
           0.3606010675430298,
           0.9380175471305847,
           0.5366682410240173,
           0.8532673716545105,
           0.8128951191902161,
           0.3336288332939148,
           0.04654973745346069,
           0.9018265008926392,
           0.5173195600509644,
           0.577872633934021,
           0.7339696288108826,
           0.4807621240615845,
           0.23053401708602905,
           0.8125168085098267,
           0.591744065284729,
           0.18800067901611328,
           0.5239882469177246,
           0.8364547491073608,
           0.1707645058631897,
           0.5065805912017822
          ],
          [
           0.35422271490097046,
           0.9477878212928772,
           0.8475514650344849,
           0.15134888887405396,
           0.0203397274017334,
           0.42582088708877563,
           0.3929097652435303,
           0.13889747858047485,
           0.8782079219818115,
           0.8590309619903564,
           0.7390936613082886,
           0.8429991006851196,
           0.17880123853683472,
           0.5599716305732727,
           0.0743139386177063,
           0.31795114278793335,
           0.5844122767448425,
           0.7245092988014221,
           0.04109382629394531,
           0.24614262580871582
          ],
          [
           0.6916697025299072,
           0.44506126642227173,
           0.6891711354255676,
           0.07413232326507568,
           0.2923368215560913,
           0.5258718132972717,
           0.7674848437309265,
           0.03456908464431763,
           0.7498651742935181,
           0.9524648189544678,
           0.39838552474975586,
           0.9204056859016418,
           0.525229811668396,
           0.4297637939453125,
           0.4846153259277344,
           0.8032553791999817,
           0.6852006316184998,
           0.22219902276992798,
           0.0012857317924499512,
           0.6575947403907776
          ],
          [
           0.7061259150505066,
           0.8439178466796875,
           0.9589876532554626,
           0.3447651267051697,
           0.03862190246582031,
           0.0412634015083313,
           0.8739072680473328,
           0.8432853817939758,
           0.5016681551933289,
           0.25834840536117554,
           0.047141969203948975,
           0.3458050489425659,
           0.9713314175605774,
           0.21376502513885498,
           0.36821508407592773,
           0.970012903213501,
           0.669795036315918,
           0.15777844190597534,
           0.17284941673278809,
           0.3897494673728943
          ],
          [
           0.102863609790802,
           0.45155471563339233,
           0.6643500924110413,
           0.0525248646736145,
           0.6303176879882812,
           0.9201627969741821,
           0.8016647100448608,
           0.4675251841545105,
           0.7125137448310852,
           0.06530702114105225,
           0.5858520865440369,
           0.5971695184707642,
           0.6158221960067749,
           0.9901717305183411,
           0.8672509789466858,
           0.2645699977874756,
           0.8697502017021179,
           0.027076423168182373,
           0.5828046202659607,
           0.2555338740348816
          ],
          [
           0.662649929523468,
           0.012250304222106934,
           0.05954998731613159,
           0.259432852268219,
           0.24322468042373657,
           0.677547037601471,
           0.785298764705658,
           0.2061421275138855,
           0.9965265393257141,
           0.7083656787872314,
           0.5164065957069397,
           0.9407188892364502,
           0.7288915514945984,
           0.4554681181907654,
           0.5127111077308655,
           0.9253720641136169,
           0.9509493112564087,
           0.4271826148033142,
           0.33841872215270996,
           0.7291316986083984
          ],
          [
           0.14046674966812134,
           0.9605545997619629,
           0.5725359916687012,
           0.9891347885131836,
           0.6748690605163574,
           0.5077841877937317,
           0.8607029318809509,
           0.6123539209365845,
           0.03260207176208496,
           0.6479834318161011,
           0.2861136794090271,
           0.5985361337661743,
           0.11544299125671387,
           0.527079164981842,
           0.7395758032798767,
           0.2106361985206604,
           0.7792409062385559,
           0.48673486709594727,
           0.09129971265792847,
           0.06699144840240479
          ],
          [
           0.9556861519813538,
           0.7209116816520691,
           0.9922564625740051,
           0.6958107352256775,
           0.6492951512336731,
           0.2199467420578003,
           0.06703895330429077,
           0.5291703343391418,
           0.0911608338356018,
           0.10282474756240845,
           0.9574641585350037,
           0.6891810894012451,
           0.7590062022209167,
           0.3784402012825012,
           0.7310845851898193,
           0.9434648752212524,
           0.8355240821838379,
           0.2269851565361023,
           0.22040987014770508,
           0.24145519733428955
          ],
          [
           0.863874077796936,
           0.33259814977645874,
           0.07564103603363037,
           0.18126869201660156,
           0.2980751395225525,
           0.42058539390563965,
           0.17375242710113525,
           0.45478200912475586,
           0.6859034299850464,
           0.5720838308334351,
           0.13770055770874023,
           0.8347880840301514,
           0.07029855251312256,
           0.3595503568649292,
           0.5180602669715881,
           0.9462366700172424,
           0.32754433155059814,
           0.5736479759216309,
           0.8876587748527527,
           0.19777554273605347
          ],
          [
           0.7306628823280334,
           0.30889809131622314,
           0.02085798978805542,
           0.43103379011154175,
           0.6005010604858398,
           0.4781409502029419,
           0.30968910455703735,
           0.43303078413009644,
           0.22602230310440063,
           0.5693467259407043,
           0.4753628969192505,
           0.6934989094734192,
           0.5470066666603088,
           0.7465541958808899,
           0.11448884010314941,
           0.9279187917709351,
           0.6136270761489868,
           0.1742430329322815,
           0.956367552280426,
           0.8213849067687988
          ],
          [
           0.044389545917510986,
           0.9349702000617981,
           0.9707198143005371,
           0.6805545687675476,
           0.13375067710876465,
           0.8726409673690796,
           0.8083606958389282,
           0.5563053488731384,
           0.377174973487854,
           0.8817421197891235,
           0.05259835720062256,
           0.6832098364830017,
           0.33619701862335205,
           0.6575906276702881,
           0.7739660739898682,
           0.0988723635673523,
           0.23744702339172363,
           0.9419935941696167,
           0.08709579706192017,
           0.6341951489448547
          ],
          [
           0.8933753371238708,
           0.9197583198547363,
           0.9983500838279724,
           0.7611557245254517,
           0.8460370898246765,
           0.9662800431251526,
           0.7760195136070251,
           0.8453335165977478,
           0.8937461376190186,
           0.9672786593437195,
           0.9383353590965271,
           0.7338077425956726,
           0.8626813292503357,
           0.48299533128738403,
           0.04950672388076782,
           0.9133084416389465,
           0.6725761890411377,
           0.8942086100578308,
           0.018423080444335938,
           0.7747916579246521
          ],
          [
           0.13074004650115967,
           0.6050534248352051,
           0.9605989456176758,
           0.991583526134491,
           0.8132168650627136,
           0.7493674755096436,
           0.5594193339347839,
           0.11891436576843262,
           0.3910314440727234,
           0.03939551115036011,
           0.605276882648468,
           0.07140755653381348,
           0.8669921159744263,
           0.8825852870941162,
           0.17639750242233276,
           0.6632500290870667,
           0.14200371503829956,
           0.938439667224884,
           0.7704039812088013,
           0.04645901918411255
          ]
         ]
        }
       ],
       "layout": {
        "template": {
         "data": {
          "bar": [
           {
            "error_x": {
             "color": "#2a3f5f"
            },
            "error_y": {
             "color": "#2a3f5f"
            },
            "marker": {
             "line": {
              "color": "#E5ECF6",
              "width": 0.5
             },
             "pattern": {
              "fillmode": "overlay",
              "size": 10,
              "solidity": 0.2
             }
            },
            "type": "bar"
           }
          ],
          "barpolar": [
           {
            "marker": {
             "line": {
              "color": "#E5ECF6",
              "width": 0.5
             },
             "pattern": {
              "fillmode": "overlay",
              "size": 10,
              "solidity": 0.2
             }
            },
            "type": "barpolar"
           }
          ],
          "carpet": [
           {
            "aaxis": {
             "endlinecolor": "#2a3f5f",
             "gridcolor": "white",
             "linecolor": "white",
             "minorgridcolor": "white",
             "startlinecolor": "#2a3f5f"
            },
            "baxis": {
             "endlinecolor": "#2a3f5f",
             "gridcolor": "white",
             "linecolor": "white",
             "minorgridcolor": "white",
             "startlinecolor": "#2a3f5f"
            },
            "type": "carpet"
           }
          ],
          "choropleth": [
           {
            "colorbar": {
             "outlinewidth": 0,
             "ticks": ""
            },
            "type": "choropleth"
           }
          ],
          "contour": [
           {
            "colorbar": {
             "outlinewidth": 0,
             "ticks": ""
            },
            "colorscale": [
             [
              0,
              "#0d0887"
             ],
             [
              0.1111111111111111,
              "#46039f"
             ],
             [
              0.2222222222222222,
              "#7201a8"
             ],
             [
              0.3333333333333333,
              "#9c179e"
             ],
             [
              0.4444444444444444,
              "#bd3786"
             ],
             [
              0.5555555555555556,
              "#d8576b"
             ],
             [
              0.6666666666666666,
              "#ed7953"
             ],
             [
              0.7777777777777778,
              "#fb9f3a"
             ],
             [
              0.8888888888888888,
              "#fdca26"
             ],
             [
              1,
              "#f0f921"
             ]
            ],
            "type": "contour"
           }
          ],
          "contourcarpet": [
           {
            "colorbar": {
             "outlinewidth": 0,
             "ticks": ""
            },
            "type": "contourcarpet"
           }
          ],
          "heatmap": [
           {
            "colorbar": {
             "outlinewidth": 0,
             "ticks": ""
            },
            "colorscale": [
             [
              0,
              "#0d0887"
             ],
             [
              0.1111111111111111,
              "#46039f"
             ],
             [
              0.2222222222222222,
              "#7201a8"
             ],
             [
              0.3333333333333333,
              "#9c179e"
             ],
             [
              0.4444444444444444,
              "#bd3786"
             ],
             [
              0.5555555555555556,
              "#d8576b"
             ],
             [
              0.6666666666666666,
              "#ed7953"
             ],
             [
              0.7777777777777778,
              "#fb9f3a"
             ],
             [
              0.8888888888888888,
              "#fdca26"
             ],
             [
              1,
              "#f0f921"
             ]
            ],
            "type": "heatmap"
           }
          ],
          "heatmapgl": [
           {
            "colorbar": {
             "outlinewidth": 0,
             "ticks": ""
            },
            "colorscale": [
             [
              0,
              "#0d0887"
             ],
             [
              0.1111111111111111,
              "#46039f"
             ],
             [
              0.2222222222222222,
              "#7201a8"
             ],
             [
              0.3333333333333333,
              "#9c179e"
             ],
             [
              0.4444444444444444,
              "#bd3786"
             ],
             [
              0.5555555555555556,
              "#d8576b"
             ],
             [
              0.6666666666666666,
              "#ed7953"
             ],
             [
              0.7777777777777778,
              "#fb9f3a"
             ],
             [
              0.8888888888888888,
              "#fdca26"
             ],
             [
              1,
              "#f0f921"
             ]
            ],
            "type": "heatmapgl"
           }
          ],
          "histogram": [
           {
            "marker": {
             "pattern": {
              "fillmode": "overlay",
              "size": 10,
              "solidity": 0.2
             }
            },
            "type": "histogram"
           }
          ],
          "histogram2d": [
           {
            "colorbar": {
             "outlinewidth": 0,
             "ticks": ""
            },
            "colorscale": [
             [
              0,
              "#0d0887"
             ],
             [
              0.1111111111111111,
              "#46039f"
             ],
             [
              0.2222222222222222,
              "#7201a8"
             ],
             [
              0.3333333333333333,
              "#9c179e"
             ],
             [
              0.4444444444444444,
              "#bd3786"
             ],
             [
              0.5555555555555556,
              "#d8576b"
             ],
             [
              0.6666666666666666,
              "#ed7953"
             ],
             [
              0.7777777777777778,
              "#fb9f3a"
             ],
             [
              0.8888888888888888,
              "#fdca26"
             ],
             [
              1,
              "#f0f921"
             ]
            ],
            "type": "histogram2d"
           }
          ],
          "histogram2dcontour": [
           {
            "colorbar": {
             "outlinewidth": 0,
             "ticks": ""
            },
            "colorscale": [
             [
              0,
              "#0d0887"
             ],
             [
              0.1111111111111111,
              "#46039f"
             ],
             [
              0.2222222222222222,
              "#7201a8"
             ],
             [
              0.3333333333333333,
              "#9c179e"
             ],
             [
              0.4444444444444444,
              "#bd3786"
             ],
             [
              0.5555555555555556,
              "#d8576b"
             ],
             [
              0.6666666666666666,
              "#ed7953"
             ],
             [
              0.7777777777777778,
              "#fb9f3a"
             ],
             [
              0.8888888888888888,
              "#fdca26"
             ],
             [
              1,
              "#f0f921"
             ]
            ],
            "type": "histogram2dcontour"
           }
          ],
          "mesh3d": [
           {
            "colorbar": {
             "outlinewidth": 0,
             "ticks": ""
            },
            "type": "mesh3d"
           }
          ],
          "parcoords": [
           {
            "line": {
             "colorbar": {
              "outlinewidth": 0,
              "ticks": ""
             }
            },
            "type": "parcoords"
           }
          ],
          "pie": [
           {
            "automargin": true,
            "type": "pie"
           }
          ],
          "scatter": [
           {
            "fillpattern": {
             "fillmode": "overlay",
             "size": 10,
             "solidity": 0.2
            },
            "type": "scatter"
           }
          ],
          "scatter3d": [
           {
            "line": {
             "colorbar": {
              "outlinewidth": 0,
              "ticks": ""
             }
            },
            "marker": {
             "colorbar": {
              "outlinewidth": 0,
              "ticks": ""
             }
            },
            "type": "scatter3d"
           }
          ],
          "scattercarpet": [
           {
            "marker": {
             "colorbar": {
              "outlinewidth": 0,
              "ticks": ""
             }
            },
            "type": "scattercarpet"
           }
          ],
          "scattergeo": [
           {
            "marker": {
             "colorbar": {
              "outlinewidth": 0,
              "ticks": ""
             }
            },
            "type": "scattergeo"
           }
          ],
          "scattergl": [
           {
            "marker": {
             "colorbar": {
              "outlinewidth": 0,
              "ticks": ""
             }
            },
            "type": "scattergl"
           }
          ],
          "scattermapbox": [
           {
            "marker": {
             "colorbar": {
              "outlinewidth": 0,
              "ticks": ""
             }
            },
            "type": "scattermapbox"
           }
          ],
          "scatterpolar": [
           {
            "marker": {
             "colorbar": {
              "outlinewidth": 0,
              "ticks": ""
             }
            },
            "type": "scatterpolar"
           }
          ],
          "scatterpolargl": [
           {
            "marker": {
             "colorbar": {
              "outlinewidth": 0,
              "ticks": ""
             }
            },
            "type": "scatterpolargl"
           }
          ],
          "scatterternary": [
           {
            "marker": {
             "colorbar": {
              "outlinewidth": 0,
              "ticks": ""
             }
            },
            "type": "scatterternary"
           }
          ],
          "surface": [
           {
            "colorbar": {
             "outlinewidth": 0,
             "ticks": ""
            },
            "colorscale": [
             [
              0,
              "#0d0887"
             ],
             [
              0.1111111111111111,
              "#46039f"
             ],
             [
              0.2222222222222222,
              "#7201a8"
             ],
             [
              0.3333333333333333,
              "#9c179e"
             ],
             [
              0.4444444444444444,
              "#bd3786"
             ],
             [
              0.5555555555555556,
              "#d8576b"
             ],
             [
              0.6666666666666666,
              "#ed7953"
             ],
             [
              0.7777777777777778,
              "#fb9f3a"
             ],
             [
              0.8888888888888888,
              "#fdca26"
             ],
             [
              1,
              "#f0f921"
             ]
            ],
            "type": "surface"
           }
          ],
          "table": [
           {
            "cells": {
             "fill": {
              "color": "#EBF0F8"
             },
             "line": {
              "color": "white"
             }
            },
            "header": {
             "fill": {
              "color": "#C8D4E3"
             },
             "line": {
              "color": "white"
             }
            },
            "type": "table"
           }
          ]
         },
         "layout": {
          "annotationdefaults": {
           "arrowcolor": "#2a3f5f",
           "arrowhead": 0,
           "arrowwidth": 1
          },
          "autotypenumbers": "strict",
          "coloraxis": {
           "colorbar": {
            "outlinewidth": 0,
            "ticks": ""
           }
          },
          "colorscale": {
           "diverging": [
            [
             0,
             "#8e0152"
            ],
            [
             0.1,
             "#c51b7d"
            ],
            [
             0.2,
             "#de77ae"
            ],
            [
             0.3,
             "#f1b6da"
            ],
            [
             0.4,
             "#fde0ef"
            ],
            [
             0.5,
             "#f7f7f7"
            ],
            [
             0.6,
             "#e6f5d0"
            ],
            [
             0.7,
             "#b8e186"
            ],
            [
             0.8,
             "#7fbc41"
            ],
            [
             0.9,
             "#4d9221"
            ],
            [
             1,
             "#276419"
            ]
           ],
           "sequential": [
            [
             0,
             "#0d0887"
            ],
            [
             0.1111111111111111,
             "#46039f"
            ],
            [
             0.2222222222222222,
             "#7201a8"
            ],
            [
             0.3333333333333333,
             "#9c179e"
            ],
            [
             0.4444444444444444,
             "#bd3786"
            ],
            [
             0.5555555555555556,
             "#d8576b"
            ],
            [
             0.6666666666666666,
             "#ed7953"
            ],
            [
             0.7777777777777778,
             "#fb9f3a"
            ],
            [
             0.8888888888888888,
             "#fdca26"
            ],
            [
             1,
             "#f0f921"
            ]
           ],
           "sequentialminus": [
            [
             0,
             "#0d0887"
            ],
            [
             0.1111111111111111,
             "#46039f"
            ],
            [
             0.2222222222222222,
             "#7201a8"
            ],
            [
             0.3333333333333333,
             "#9c179e"
            ],
            [
             0.4444444444444444,
             "#bd3786"
            ],
            [
             0.5555555555555556,
             "#d8576b"
            ],
            [
             0.6666666666666666,
             "#ed7953"
            ],
            [
             0.7777777777777778,
             "#fb9f3a"
            ],
            [
             0.8888888888888888,
             "#fdca26"
            ],
            [
             1,
             "#f0f921"
            ]
           ]
          },
          "colorway": [
           "#636efa",
           "#EF553B",
           "#00cc96",
           "#ab63fa",
           "#FFA15A",
           "#19d3f3",
           "#FF6692",
           "#B6E880",
           "#FF97FF",
           "#FECB52"
          ],
          "font": {
           "color": "#2a3f5f"
          },
          "geo": {
           "bgcolor": "white",
           "lakecolor": "white",
           "landcolor": "#E5ECF6",
           "showlakes": true,
           "showland": true,
           "subunitcolor": "white"
          },
          "hoverlabel": {
           "align": "left"
          },
          "hovermode": "closest",
          "mapbox": {
           "style": "light"
          },
          "paper_bgcolor": "white",
          "plot_bgcolor": "#E5ECF6",
          "polar": {
           "angularaxis": {
            "gridcolor": "white",
            "linecolor": "white",
            "ticks": ""
           },
           "bgcolor": "#E5ECF6",
           "radialaxis": {
            "gridcolor": "white",
            "linecolor": "white",
            "ticks": ""
           }
          },
          "scene": {
           "xaxis": {
            "backgroundcolor": "#E5ECF6",
            "gridcolor": "white",
            "gridwidth": 2,
            "linecolor": "white",
            "showbackground": true,
            "ticks": "",
            "zerolinecolor": "white"
           },
           "yaxis": {
            "backgroundcolor": "#E5ECF6",
            "gridcolor": "white",
            "gridwidth": 2,
            "linecolor": "white",
            "showbackground": true,
            "ticks": "",
            "zerolinecolor": "white"
           },
           "zaxis": {
            "backgroundcolor": "#E5ECF6",
            "gridcolor": "white",
            "gridwidth": 2,
            "linecolor": "white",
            "showbackground": true,
            "ticks": "",
            "zerolinecolor": "white"
           }
          },
          "shapedefaults": {
           "line": {
            "color": "#2a3f5f"
           }
          },
          "ternary": {
           "aaxis": {
            "gridcolor": "white",
            "linecolor": "white",
            "ticks": ""
           },
           "baxis": {
            "gridcolor": "white",
            "linecolor": "white",
            "ticks": ""
           },
           "bgcolor": "#E5ECF6",
           "caxis": {
            "gridcolor": "white",
            "linecolor": "white",
            "ticks": ""
           }
          },
          "title": {
           "x": 0.05
          },
          "xaxis": {
           "automargin": true,
           "gridcolor": "white",
           "linecolor": "white",
           "ticks": "",
           "title": {
            "standoff": 15
           },
           "zerolinecolor": "white",
           "zerolinewidth": 2
          },
          "yaxis": {
           "automargin": true,
           "gridcolor": "white",
           "linecolor": "white",
           "ticks": "",
           "title": {
            "standoff": 15
           },
           "zerolinecolor": "white",
           "zerolinewidth": 2
          }
         }
        },
        "title": {
         "text": "initial variational matrix vs losses"
        },
        "xaxis": {
         "title": {
          "text": "losses"
         }
        },
        "yaxis": {
         "title": {
          "text": "variational matrix"
         }
        }
       }
      }
     },
     "metadata": {},
     "output_type": "display_data"
    }
   ],
   "source": [
    "import plotly.graph_objects as go\n",
    "data = go.Scatter(x=losses, y=variational_matrix.detach().numpy(), line_color='red')\n",
    "\n",
    "fig = go.Figure(data=data)\n",
    "fig.update_layout(title=\"initial variational matrix vs losses\", xaxis_title=\"losses\", yaxis_title=\"variational matrix\")\n",
    "fig.show()"
   ]
  },
  {
   "cell_type": "code",
   "execution_count": 22,
   "metadata": {},
   "outputs": [
    {
     "data": {
      "text/plain": [
       "torch.Size([66])"
      ]
     },
     "execution_count": 22,
     "metadata": {},
     "output_type": "execute_result"
    }
   ],
   "source": [
    "torch.tensor(losses).shape"
   ]
  },
  {
   "cell_type": "code",
   "execution_count": 23,
   "metadata": {},
   "outputs": [],
   "source": [
    "# botorch input type\n",
    "train_x = variational_matrix.to(torch.float64)\n",
    "exact_obj = torch.tensor(losses)\n",
    "best_observed_value = min(losses)"
   ]
  },
  {
   "cell_type": "code",
   "execution_count": 17,
   "metadata": {},
   "outputs": [],
   "source": [
    "bounds = torch.tensor([[0.], [1.]])"
   ]
  },
  {
   "cell_type": "code",
   "execution_count": 25,
   "metadata": {},
   "outputs": [],
   "source": [
    "from botorch.models import SingleTaskGP, ModelListGP\n",
    "from gpytorch.mlls.exact_marginal_log_likelihood import ExactMarginalLogLikelihood\n",
    "from botorch.models.transforms.outcome import Standardize\n"
   ]
  },
  {
   "cell_type": "code",
   "execution_count": 26,
   "metadata": {},
   "outputs": [
    {
     "ename": "RuntimeError",
     "evalue": "Wrong output dimension. Y.size(-1) is 66; expected 1.",
     "output_type": "error",
     "traceback": [
      "\u001b[0;31m---------------------------------------------------------------------------\u001b[0m",
      "\u001b[0;31mRuntimeError\u001b[0m                              Traceback (most recent call last)",
      "\u001b[1;32m/home/siddy/META/VAE_Rewire/initial_model_OPTIMIZATION_1.ipynb Cell 18\u001b[0m line \u001b[0;36m1\n\u001b[0;32m----> <a href='vscode-notebook-cell:/home/siddy/META/VAE_Rewire/initial_model_OPTIMIZATION_1.ipynb#X23sZmlsZQ%3D%3D?line=0'>1</a>\u001b[0m gp \u001b[39m=\u001b[39m SingleTaskGP(train_x, exact_obj, outcome_transform\u001b[39m=\u001b[39;49mStandardize(m\u001b[39m=\u001b[39;49m\u001b[39m1\u001b[39;49m))\n\u001b[1;32m      <a href='vscode-notebook-cell:/home/siddy/META/VAE_Rewire/initial_model_OPTIMIZATION_1.ipynb#X23sZmlsZQ%3D%3D?line=1'>2</a>\u001b[0m mll \u001b[39m=\u001b[39m ExactMarginalLogLikelihood(gp\u001b[39m.\u001b[39mlikelihood, gp)\n\u001b[1;32m      <a href='vscode-notebook-cell:/home/siddy/META/VAE_Rewire/initial_model_OPTIMIZATION_1.ipynb#X23sZmlsZQ%3D%3D?line=2'>3</a>\u001b[0m fit_gpytorch_mll(mll)\n",
      "File \u001b[0;32m~/anaconda3/envs/GDL/lib/python3.8/site-packages/botorch/models/gp_regression.py:121\u001b[0m, in \u001b[0;36mSingleTaskGP.__init__\u001b[0;34m(self, train_X, train_Y, likelihood, covar_module, mean_module, outcome_transform, input_transform)\u001b[0m\n\u001b[1;32m    117\u001b[0m     transformed_X \u001b[39m=\u001b[39m \u001b[39mself\u001b[39m\u001b[39m.\u001b[39mtransform_inputs(\n\u001b[1;32m    118\u001b[0m         X\u001b[39m=\u001b[39mtrain_X, input_transform\u001b[39m=\u001b[39minput_transform\n\u001b[1;32m    119\u001b[0m     )\n\u001b[1;32m    120\u001b[0m \u001b[39mif\u001b[39;00m outcome_transform \u001b[39mis\u001b[39;00m \u001b[39mnot\u001b[39;00m \u001b[39mNone\u001b[39;00m:\n\u001b[0;32m--> 121\u001b[0m     train_Y, _ \u001b[39m=\u001b[39m outcome_transform(train_Y)\n\u001b[1;32m    122\u001b[0m \u001b[39mself\u001b[39m\u001b[39m.\u001b[39m_validate_tensor_args(X\u001b[39m=\u001b[39mtransformed_X, Y\u001b[39m=\u001b[39mtrain_Y)\n\u001b[1;32m    123\u001b[0m ignore_X_dims \u001b[39m=\u001b[39m \u001b[39mgetattr\u001b[39m(\u001b[39mself\u001b[39m, \u001b[39m\"\u001b[39m\u001b[39m_ignore_X_dims_scaling_check\u001b[39m\u001b[39m\"\u001b[39m, \u001b[39mNone\u001b[39;00m)\n",
      "File \u001b[0;32m~/anaconda3/envs/GDL/lib/python3.8/site-packages/torch/nn/modules/module.py:1194\u001b[0m, in \u001b[0;36mModule._call_impl\u001b[0;34m(self, *input, **kwargs)\u001b[0m\n\u001b[1;32m   1190\u001b[0m \u001b[39m# If we don't have any hooks, we want to skip the rest of the logic in\u001b[39;00m\n\u001b[1;32m   1191\u001b[0m \u001b[39m# this function, and just call forward.\u001b[39;00m\n\u001b[1;32m   1192\u001b[0m \u001b[39mif\u001b[39;00m \u001b[39mnot\u001b[39;00m (\u001b[39mself\u001b[39m\u001b[39m.\u001b[39m_backward_hooks \u001b[39mor\u001b[39;00m \u001b[39mself\u001b[39m\u001b[39m.\u001b[39m_forward_hooks \u001b[39mor\u001b[39;00m \u001b[39mself\u001b[39m\u001b[39m.\u001b[39m_forward_pre_hooks \u001b[39mor\u001b[39;00m _global_backward_hooks\n\u001b[1;32m   1193\u001b[0m         \u001b[39mor\u001b[39;00m _global_forward_hooks \u001b[39mor\u001b[39;00m _global_forward_pre_hooks):\n\u001b[0;32m-> 1194\u001b[0m     \u001b[39mreturn\u001b[39;00m forward_call(\u001b[39m*\u001b[39;49m\u001b[39minput\u001b[39;49m, \u001b[39m*\u001b[39;49m\u001b[39m*\u001b[39;49mkwargs)\n\u001b[1;32m   1195\u001b[0m \u001b[39m# Do not call functions when jit is used\u001b[39;00m\n\u001b[1;32m   1196\u001b[0m full_backward_hooks, non_full_backward_hooks \u001b[39m=\u001b[39m [], []\n",
      "File \u001b[0;32m~/anaconda3/envs/GDL/lib/python3.8/site-packages/botorch/models/transforms/outcome.py:284\u001b[0m, in \u001b[0;36mStandardize.forward\u001b[0;34m(self, Y, Yvar)\u001b[0m\n\u001b[1;32m    278\u001b[0m     \u001b[39mraise\u001b[39;00m \u001b[39mRuntimeError\u001b[39;00m(\n\u001b[1;32m    279\u001b[0m         \u001b[39mf\u001b[39m\u001b[39m\"\u001b[39m\u001b[39mExpected Y.shape[:-2] to be \u001b[39m\u001b[39m{\u001b[39;00m\u001b[39mself\u001b[39m\u001b[39m.\u001b[39m_batch_shape\u001b[39m}\u001b[39;00m\u001b[39m, matching \u001b[39m\u001b[39m\"\u001b[39m\n\u001b[1;32m    280\u001b[0m         \u001b[39m\"\u001b[39m\u001b[39mthe `batch_shape` argument to `Standardize`, but got \u001b[39m\u001b[39m\"\u001b[39m\n\u001b[1;32m    281\u001b[0m         \u001b[39mf\u001b[39m\u001b[39m\"\u001b[39m\u001b[39mY.shape[:-2]=\u001b[39m\u001b[39m{\u001b[39;00mY\u001b[39m.\u001b[39mshape[:\u001b[39m-\u001b[39m\u001b[39m2\u001b[39m]\u001b[39m}\u001b[39;00m\u001b[39m.\u001b[39m\u001b[39m\"\u001b[39m\n\u001b[1;32m    282\u001b[0m     )\n\u001b[1;32m    283\u001b[0m \u001b[39mif\u001b[39;00m Y\u001b[39m.\u001b[39msize(\u001b[39m-\u001b[39m\u001b[39m1\u001b[39m) \u001b[39m!=\u001b[39m \u001b[39mself\u001b[39m\u001b[39m.\u001b[39m_m:\n\u001b[0;32m--> 284\u001b[0m     \u001b[39mraise\u001b[39;00m \u001b[39mRuntimeError\u001b[39;00m(\n\u001b[1;32m    285\u001b[0m         \u001b[39mf\u001b[39m\u001b[39m\"\u001b[39m\u001b[39mWrong output dimension. Y.size(-1) is \u001b[39m\u001b[39m{\u001b[39;00mY\u001b[39m.\u001b[39msize(\u001b[39m-\u001b[39m\u001b[39m1\u001b[39m)\u001b[39m}\u001b[39;00m\u001b[39m; expected \u001b[39m\u001b[39m\"\u001b[39m\n\u001b[1;32m    286\u001b[0m         \u001b[39mf\u001b[39m\u001b[39m\"\u001b[39m\u001b[39m{\u001b[39;00m\u001b[39mself\u001b[39m\u001b[39m.\u001b[39m_m\u001b[39m}\u001b[39;00m\u001b[39m.\u001b[39m\u001b[39m\"\u001b[39m\n\u001b[1;32m    287\u001b[0m     )\n\u001b[1;32m    288\u001b[0m stdvs \u001b[39m=\u001b[39m Y\u001b[39m.\u001b[39mstd(dim\u001b[39m=\u001b[39m\u001b[39m-\u001b[39m\u001b[39m2\u001b[39m, keepdim\u001b[39m=\u001b[39m\u001b[39mTrue\u001b[39;00m)\n\u001b[1;32m    289\u001b[0m stdvs \u001b[39m=\u001b[39m stdvs\u001b[39m.\u001b[39mwhere(stdvs \u001b[39m>\u001b[39m\u001b[39m=\u001b[39m \u001b[39mself\u001b[39m\u001b[39m.\u001b[39m_min_stdv, torch\u001b[39m.\u001b[39mfull_like(stdvs, \u001b[39m1.0\u001b[39m))\n",
      "\u001b[0;31mRuntimeError\u001b[0m: Wrong output dimension. Y.size(-1) is 66; expected 1."
     ]
    }
   ],
   "source": [
    "gp = SingleTaskGP(train_x, exact_obj, outcome_transform=Standardize(m=1))\n",
    "mll = ExactMarginalLogLikelihood(gp.likelihood, gp)\n",
    "fit_gpytorch_mll(mll)\n",
    "\n"
   ]
  },
  {
   "cell_type": "code",
   "execution_count": null,
   "metadata": {},
   "outputs": [],
   "source": []
  }
 ],
 "metadata": {
  "kernelspec": {
   "display_name": "GDL",
   "language": "python",
   "name": "python3"
  },
  "language_info": {
   "codemirror_mode": {
    "name": "ipython",
    "version": 3
   },
   "file_extension": ".py",
   "mimetype": "text/x-python",
   "name": "python",
   "nbconvert_exporter": "python",
   "pygments_lexer": "ipython3",
   "version": "3.8.16"
  }
 },
 "nbformat": 4,
 "nbformat_minor": 2
}
