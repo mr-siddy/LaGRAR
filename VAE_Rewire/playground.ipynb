{
 "cells": [
  {
   "cell_type": "code",
   "execution_count": 1,
   "metadata": {},
   "outputs": [],
   "source": [
    "import torch\n",
    "import torch_geometric\n",
    "from torch_geometric.data import Data"
   ]
  },
  {
   "cell_type": "code",
   "execution_count": null,
   "metadata": {},
   "outputs": [],
   "source": []
  },
  {
   "cell_type": "code",
   "execution_count": 17,
   "metadata": {},
   "outputs": [
    {
     "name": "stdout",
     "output_type": "stream",
     "text": [
      "tensor([[0.5200, 0.8900, 0.2300, 0.6700],\n",
      "        [0.1100, 0.4500, 0.7600, 0.9800],\n",
      "        [0.3400, 0.2100, 0.8700, 0.0500],\n",
      "        [0.7100, 0.3300, 0.6200, 0.1400]])\n",
      "tensor([[0.6271, 0.7089, 0.5572, 0.6615],\n",
      "        [0.5275, 0.6106, 0.6814, 0.7271],\n",
      "        [0.5842, 0.5523, 0.7047, 0.5125],\n",
      "        [0.6704, 0.5818, 0.6502, 0.5349]])\n",
      "tensor([[1., 1., 0., 1.],\n",
      "        [0., 0., 1., 1.],\n",
      "        [0., 0., 1., 0.],\n",
      "        [1., 0., 1., 0.]])\n"
     ]
    }
   ],
   "source": [
    "# random matrix -- variational/ weights\n",
    "A = [[0.52, 0.89, 0.23, 0.67],\n",
    " [0.11, 0.45, 0.76, 0.98],\n",
    " [0.34, 0.21, 0.87, 0.05],\n",
    " [0.71, 0.33, 0.62, 0.14]]\n",
    "\n",
    "A = torch.tensor(A, dtype=torch.float32)\n",
    "print(A)\n",
    "print(torch.sigmoid(A))\n",
    "print((A > 0.5).float())"
   ]
  },
  {
   "cell_type": "code",
   "execution_count": 3,
   "metadata": {},
   "outputs": [
    {
     "data": {
      "text/plain": [
       "tensor([[0., 0.]], dtype=torch.float64)"
      ]
     },
     "execution_count": 3,
     "metadata": {},
     "output_type": "execute_result"
    }
   ],
   "source": [
    "x = torch.zeros(1,2, dtype=torch.float64)\n",
    "x"
   ]
  },
  {
   "cell_type": "code",
   "execution_count": 2,
   "metadata": {},
   "outputs": [
    {
     "name": "stdout",
     "output_type": "stream",
     "text": [
      "Data(edge_index=[2, 4], num_nodes=3)\n"
     ]
    }
   ],
   "source": [
    "edge_index = torch.tensor([[0, 1, 1, 2], [1, 0, 2, 1]], dtype=torch.long)\n",
    "num_nodes = 3\n",
    "data = Data(edge_index=edge_index, num_nodes=num_nodes)\n",
    "print(data)"
   ]
  },
  {
   "cell_type": "code",
   "execution_count": 11,
   "metadata": {},
   "outputs": [
    {
     "name": "stdout",
     "output_type": "stream",
     "text": [
      "1 2\n"
     ]
    }
   ],
   "source": [
    "u, v = int(edge_index[0, 2]), int(edge_index[1, 2])\n",
    "print(u, v)"
   ]
  },
  {
   "cell_type": "code",
   "execution_count": 6,
   "metadata": {},
   "outputs": [],
   "source": [
    "from torch_geometric.utils import to_dense_adj\n",
    "A = to_dense_adj(edge_index)"
   ]
  },
  {
   "cell_type": "code",
   "execution_count": 5,
   "metadata": {},
   "outputs": [
    {
     "name": "stdout",
     "output_type": "stream",
     "text": [
      "tensor([[0, 1, 0],\n",
      "        [1, 0, 1],\n",
      "        [0, 1, 0]])\n"
     ]
    }
   ],
   "source": [
    "adj_matrix = torch.zeros((data.num_nodes, data.num_nodes), dtype=torch.long)\n",
    "for i in range(data.edge_index.size(1)):\n",
    "    u, v = int(data.edge_index[0, i]), int(data.edge_index[1, i])\n",
    "    adj_matrix[u, v] = 1\n",
    "    adj_matrix[v, u] = 1\n",
    "\n",
    "print(adj_matrix)\n"
   ]
  },
  {
   "cell_type": "code",
   "execution_count": 13,
   "metadata": {},
   "outputs": [
    {
     "data": {
      "text/plain": [
       "tensor([0, 1, 0])"
      ]
     },
     "execution_count": 13,
     "metadata": {},
     "output_type": "execute_result"
    }
   ],
   "source": [
    "adj_matrix[v]"
   ]
  },
  {
   "cell_type": "code",
   "execution_count": 7,
   "metadata": {},
   "outputs": [
    {
     "name": "stdout",
     "output_type": "stream",
     "text": [
      "Neg Index for edge (u, v): 0.6666666865348816\n"
     ]
    }
   ],
   "source": [
    "adj_squared_u = torch.mm(adj_matrix, adj_matrix)\n",
    "\n",
    "adj_row_u = adj_matrix[u]\n",
    "adj_row_v = adj_matrix[v]\n",
    "\n",
    "bitwise_and_result = torch.bitwise_and(adj_squared_u[u], adj_row_v)\n",
    "sum_bitwise_and_result = torch.sum(bitwise_and_result)\n",
    "\n",
    "sum_adj_u = torch.sum(adj_row_u)\n",
    "sum_adj_v = torch.sum(adj_row_v)\n",
    "\n",
    "neg_index = sum_bitwise_and_result.float() / (sum_adj_u + sum_adj_v)\n",
    "\n",
    "print(\"Neg Index for edge (u, v):\", neg_index.item())"
   ]
  },
  {
   "cell_type": "markdown",
   "metadata": {},
   "source": [
    "optimization over complete list of PRE-COMPUTE sigma_1 [contains neg_index for all edges] and sigma_2[]"
   ]
  },
  {
   "cell_type": "code",
   "execution_count": null,
   "metadata": {},
   "outputs": [],
   "source": [
    "import torch\n",
    "from torch_geometric.data import Data\n",
    "import torch.optim as optim\n",
    "\n",
    "# Define neg_index, pos_index, custom_objective as provided\n",
    "\n",
    "# Define a function to create a variational matrix by optimizing the custom objective\n",
    "def create_variational_matrix(data, num_nodes, edge_index):\n",
    "    # Initialize parameters for the variational matrix\n",
    "    variational_matrix = torch.nn.Parameter(torch.rand((num_nodes, num_nodes), dtype=torch.float))\n",
    "\n",
    "    # Define an optimizer for the parameters of the variational matrix\n",
    "    optimizer = optim.Adam([variational_matrix], lr=0.01)\n",
    "\n",
    "    # Optimization loop\n",
    "    for epoch in range(1000):  # Adjust the number of epochs as needed\n",
    "        optimizer.zero_grad()\n",
    "\n",
    "        # Calculate sigma_1 and sigma_2 using the provided functions\n",
    "        sigma_1 = torch.tensor(neg_index(data))\n",
    "        sigma_2 = torch.tensor(pos_index(data))\n",
    "\n",
    "        # Calculate the custom objective function\n",
    "        objective = custom_objective(sigma_1 - 0.5, sigma_2)\n",
    "\n",
    "        # Minimize the objective function\n",
    "        loss = torch.min(objective)\n",
    "        loss.backward()\n",
    "        optimizer.step()\n",
    "\n",
    "        if epoch % 100 == 0:\n",
    "            print(f\"Epoch {epoch + 1}, Loss: {loss.item()}\")\n",
    "\n",
    "    # Sampling from the learned variational matrix to generate an adjacency matrix\n",
    "    adjacency_matrix = torch.sigmoid(variational_matrix)  # Sigmoid to constrain values between 0 and 1\n",
    "\n",
    "    # Thresholding to convert probabilities into binary adjacency matrix\n",
    "    adjacency_matrix_binary = (adjacency_matrix > 0.5).float()\n",
    "\n",
    "    return adjacency_matrix_binary\n",
    "\n",
    "# Create a sample data object (Replace this with your actual data)\n",
    "num_nodes = 10\n",
    "edge_index = torch.tensor([[0, 1, 1, 2, 2, 3],\n",
    "                           [1, 0, 2, 1, 3, 2]], dtype=torch.long)\n",
    "data = Data(num_nodes=num_nodes, edge_index=edge_index)\n",
    "\n",
    "# Create the variational matrix and sample an adjacency matrix\n",
    "generated_adjacency_matrix = create_variational_matrix(data, num_nodes, edge_index)\n",
    "\n",
    "print(\"Generated Adjacency Matrix:\")\n",
    "print(generated_adjacency_matrix)\n"
   ]
  },
  {
   "cell_type": "markdown",
   "metadata": {},
   "source": [
    "Optimization for [PRE COMPUTE / RECURRENT CALLING] each pair of u,v in the edge list"
   ]
  },
  {
   "cell_type": "code",
   "execution_count": null,
   "metadata": {},
   "outputs": [],
   "source": [
    "import torch\n",
    "from torch_geometric.data import Data\n",
    "import torch.optim as optim\n",
    "\n",
    "# Define neg_index, pos_index, custom_objective as provided\n",
    "\n",
    "# Define a function to create a variational matrix by optimizing the custom objective\n",
    "def create_variational_matrix(data, num_nodes, edge_index):\n",
    "    # Initialize parameters for the variational matrix\n",
    "    variational_matrix = torch.nn.Parameter(torch.rand((num_nodes, num_nodes), dtype=torch.float))\n",
    "\n",
    "    # Define an optimizer for the parameters of the variational matrix\n",
    "    optimizer = optim.Adam([variational_matrix], lr=0.01)\n",
    "\n",
    "    # Optimization loop\n",
    "    for epoch in range(1000):  # Adjust the number of epochs as needed\n",
    "        optimizer.zero_grad()\n",
    "\n",
    "        # Calculate sigma_1 and sigma_2 using the provided functions\n",
    "        sigma_1 = torch.tensor(neg_index(data))\n",
    "        sigma_2 = torch.tensor(pos_index(data))\n",
    "\n",
    "        # Calculate the custom objective function\n",
    "        objective = custom_objective(sigma_1 - 0.5, sigma_2)\n",
    "\n",
    "        # Minimize the objective function\n",
    "        loss = torch.min(objective)\n",
    "        loss.backward()\n",
    "        optimizer.step()\n",
    "\n",
    "        if epoch % 100 == 0:\n",
    "            print(f\"Epoch {epoch + 1}, Loss: {loss.item()}\")\n",
    "\n",
    "    # Sampling from the learned variational matrix to generate an adjacency matrix\n",
    "    adjacency_matrix = torch.sigmoid(variational_matrix)  # Sigmoid to constrain values between 0 and 1\n",
    "\n",
    "    # Thresholding to convert probabilities into binary adjacency matrix\n",
    "    adjacency_matrix_binary = (adjacency_matrix > 0.5).float()\n",
    "\n",
    "    return adjacency_matrix_binary\n",
    "\n",
    "# Create a sample data object (Replace this with your actual data)\n",
    "num_nodes = 10\n",
    "edge_index = torch.tensor([[0, 1, 1, 2, 2, 3],\n",
    "                           [1, 0, 2, 1, 3, 2]], dtype=torch.long)\n",
    "data = Data(num_nodes=num_nodes, edge_index=edge_index)\n",
    "\n",
    "# Create the variational matrix and sample an adjacency matrix\n",
    "generated_adjacency_matrix = create_variational_matrix(data, num_nodes, edge_index)\n",
    "\n",
    "print(\"Generated Adjacency Matrix:\")\n",
    "print(generated_adjacency_matrix)\n"
   ]
  }
 ],
 "metadata": {
  "kernelspec": {
   "display_name": "GDL",
   "language": "python",
   "name": "python3"
  },
  "language_info": {
   "codemirror_mode": {
    "name": "ipython",
    "version": 3
   },
   "file_extension": ".py",
   "mimetype": "text/x-python",
   "name": "python",
   "nbconvert_exporter": "python",
   "pygments_lexer": "ipython3",
   "version": "3.8.16"
  }
 },
 "nbformat": 4,
 "nbformat_minor": 2
}
